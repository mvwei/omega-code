{
 "cells": [
  {
   "cell_type": "code",
   "execution_count": 1,
   "metadata": {
    "scrolled": true
   },
   "outputs": [],
   "source": [
    "import numpy as np\n",
    "import xarray as xr\n",
    "import matplotlib.pyplot as plt\n",
    "import importlib\n",
    "import wrf\n",
    "\n",
    "from classes import (\n",
    "    CoordinateField,\n",
    "    ScalarField\n",
    ")\n",
    "from helpers import (\n",
    "    great_circle_distance,\n",
    "    w_to_omega\n",
    ")\n",
    "\n",
    "f = xr.open_dataset('../data/2013.11.18_regrid.nc')"
   ]
  },
  {
   "cell_type": "code",
   "execution_count": 29,
   "metadata": {},
   "outputs": [],
   "source": [
    "c = CoordinateField(f.lat, f.lon, great_circle_distance)\n",
    "s = ScalarField(f.U, c.dx, c.dy)\n",
    "\n",
    "dUdx = s.get_ddx()\n",
    "dUdy = s.get_ddy()\n",
    "\n",
    "omega = w_to_omega(w=f.W, temp=f.TK, qv=f.Q, p=f.lev)"
   ]
  },
  {
   "cell_type": "code",
   "execution_count": 30,
   "metadata": {},
   "outputs": [
    {
     "name": "stdout",
     "output_type": "stream",
     "text": [
      "<xarray.DataArray ()>\n",
      "array(-0.000208)\n",
      "Coordinates:\n",
      "    lon      float64 3.6\n",
      "    lat      float64 66.15\n",
      "    XTIME    datetime64[ns] 2013-11-18T07:00:00\n",
      "    lev      float64 850.0 <xarray.DataArray ()>\n",
      "array(-0.000208)\n",
      "Coordinates:\n",
      "    lon      float64 3.6\n",
      "    lat      float64 66.15\n",
      "    XTIME    datetime64[ns] 2013-11-18T07:00:00\n",
      "    lev      float64 850.0\n"
     ]
    }
   ],
   "source": [
    "time_index = 1\n",
    "p_index = 2\n",
    "lat_index = 3\n",
    "lon_index = 4\n",
    "\n",
    "p = f.lev[p_index]\n",
    "temp = f.TK[time_index, p_index, lat_index, lon_index]\n",
    "w = f.W[time_index, p_index, lat_index, lon_index]\n",
    "qv = f.Q[time_index, p_index, lat_index, lon_index]\n",
    "\n",
    "g = 9.81        # m/s**2\n",
    "rgas = 287.04   # J/K/kg\n",
    "eps = 0.622\n",
    "\n",
    "density = (p / (rgas*temp)) * (eps * (1 + qv) / (eps + qv))\n",
    "\n",
    "omega_test = -g * w * density\n",
    "\n",
    "print(omega_test, omega[time_index, p_index, lat_index, lon_index])"
   ]
  },
  {
   "cell_type": "code",
   "execution_count": 17,
   "metadata": {},
   "outputs": [
    {
     "data": {
      "text/plain": [
       "array([[[[1.        , 1.        , 1.        , 1.        ],\n",
       "         [0.5       , 0.5       , 0.5       , 0.5       ]],\n",
       "\n",
       "        [[0.66666667, 0.66666667, 0.66666667, 0.66666667],\n",
       "         [0.5       , 0.5       , 0.5       , 0.5       ]]],\n",
       "\n",
       "\n",
       "       [[[0.2       , 0.2       , 0.2       , 0.2       ],\n",
       "         [0.16666667, 0.16666667, 0.16666667, 0.16666667]],\n",
       "\n",
       "        [[0.28571429, 0.28571429, 0.28571429, 0.28571429],\n",
       "         [0.25      , 0.25      , 0.25      , 0.25      ]]]])"
      ]
     },
     "execution_count": 17,
     "metadata": {},
     "output_type": "execute_result"
    }
   ],
   "source": [
    "a = np.array([\n",
    "    [\n",
    "        [\n",
    "            [1,1,1,1],\n",
    "            [2,2,2,2]\n",
    "        ],\n",
    "        [\n",
    "            [3,3,3,3],\n",
    "            [4,4,4,4]\n",
    "        ],\n",
    "    ],\n",
    "    [\n",
    "        [\n",
    "            [5,5,5,5],\n",
    "            [6,6,6,6]\n",
    "        ],\n",
    "        [\n",
    "            [7,7,7,7],\n",
    "            [8,8,8,8]\n",
    "        ],\n",
    "    ],\n",
    "])\n",
    "b = np.array(\n",
    "    [\n",
    "        [\n",
    "            [1,1,1,1],\n",
    "            [2,2,2,2]\n",
    "        ],\n",
    "        [\n",
    "            [3,3,3,3],\n",
    "            [4,4,4,4]\n",
    "        ],\n",
    "    ],\n",
    ")\n",
    "\n",
    "divisor = np.array([1, 2])\n",
    "\n",
    "divisor[:, np.newaxis, np.newaxis]\n",
    "\n",
    "divisor[:, np.newaxis, np.newaxis]/a"
   ]
  },
  {
   "cell_type": "code",
   "execution_count": 40,
   "metadata": {},
   "outputs": [
    {
     "data": {
      "text/plain": [
       "array([1, 1, 1, 1, 2, 2, 2, 2, 3, 3, 3, 3, 4, 4, 4, 4, 5, 5, 5, 5, 6, 6,\n",
       "       6, 6, 7, 7, 7, 7, 8, 8, 8, 8])"
      ]
     },
     "execution_count": 40,
     "metadata": {},
     "output_type": "execute_result"
    }
   ],
   "source": [
    "np.reshape(a, (-1), order=\"C\")"
   ]
  },
  {
   "cell_type": "code",
   "execution_count": 63,
   "metadata": {},
   "outputs": [],
   "source": [
    "a = np.array([[[1, 5, 9, 13], [2, 6, 10, 14]], [[4, 8, 12, 16], [4, 8, 12, 16]]])"
   ]
  },
  {
   "cell_type": "code",
   "execution_count": 64,
   "metadata": {},
   "outputs": [
    {
     "data": {
      "text/plain": [
       "array([[[3., 3., 3., 3.],\n",
       "        [2., 2., 2., 2.]],\n",
       "\n",
       "       [[3., 3., 3., 3.],\n",
       "        [2., 2., 2., 2.]]])"
      ]
     },
     "execution_count": 64,
     "metadata": {},
     "output_type": "execute_result"
    }
   ],
   "source": [
    "np.gradient(a, axis=0)"
   ]
  },
  {
   "cell_type": "code",
   "execution_count": 78,
   "metadata": {},
   "outputs": [
    {
     "data": {
      "text/plain": [
       "array([[ 5, 13, 21, 29],\n",
       "       [ 6, 14, 22, 30]])"
      ]
     },
     "execution_count": 78,
     "metadata": {},
     "output_type": "execute_result"
    }
   ],
   "source": [
    "def test_func(row):\n",
    "    return np.sum(row)\n",
    "    \n",
    "np.apply_along_axis(test_func, 0, a)"
   ]
  },
  {
   "cell_type": "code",
   "execution_count": 81,
   "metadata": {},
   "outputs": [
    {
     "data": {
      "text/plain": [
       "array([[[  1,   1,   5,   9,  13],\n",
       "        [100,   2,   6,  10,  14]],\n",
       "\n",
       "       [[  1,   4,   8,  12,  16],\n",
       "        [100,   4,   8,  12,  16]]])"
      ]
     },
     "execution_count": 81,
     "metadata": {},
     "output_type": "execute_result"
    }
   ],
   "source": [
    "np.insert(a, 0, [1, 100], axis=-1)"
   ]
  },
  {
   "cell_type": "code",
   "execution_count": 13,
   "metadata": {},
   "outputs": [],
   "source": [
    "fd = np.array([(1, 2), (1, 3), (1, 4)])"
   ]
  },
  {
   "cell_type": "code",
   "execution_count": 85,
   "metadata": {},
   "outputs": [],
   "source": [
    "augh = np.array([1, 2, 3])\n",
    "\n",
    "x = np.delete(augh, 0)"
   ]
  },
  {
   "cell_type": "code",
   "execution_count": 88,
   "metadata": {},
   "outputs": [
    {
     "data": {
      "text/plain": [
       "2"
      ]
     },
     "execution_count": 88,
     "metadata": {},
     "output_type": "execute_result"
    }
   ],
   "source": [
    "a.shape[-2]"
   ]
  },
  {
   "cell_type": "code",
   "execution_count": 42,
   "metadata": {},
   "outputs": [
    {
     "data": {
      "text/plain": [
       "<xarray.DataArray 'lev' (lev: 10)>\n",
       "array([880., 865., 850., 835., 820., 550., 525., 500., 475., 450.])\n",
       "Coordinates:\n",
       "  * lev      (lev) float64 880.0 865.0 850.0 835.0 ... 525.0 500.0 475.0 450.0"
      ]
     },
     "execution_count": 42,
     "metadata": {},
     "output_type": "execute_result"
    }
   ],
   "source": [
    "f.lev"
   ]
  },
  {
   "cell_type": "code",
   "execution_count": 22,
   "metadata": {},
   "outputs": [
    {
     "data": {
      "text/plain": [
       "array([1, 1, 1, 1, 2, 2, 2, 2, 3, 3, 3, 3, 4, 4, 4, 4, 5, 5, 5, 5, 6, 6,\n",
       "       6, 6, 7, 7, 7, 7, 8, 8, 8, 8])"
      ]
     },
     "execution_count": 22,
     "metadata": {},
     "output_type": "execute_result"
    }
   ],
   "source": [
    "np.reshape(a, (-1))"
   ]
  },
  {
   "cell_type": "code",
   "execution_count": 24,
   "metadata": {},
   "outputs": [
    {
     "ename": "TypeError",
     "evalue": "'<' not supported between instances of 'list' and 'int'",
     "output_type": "error",
     "traceback": [
      "\u001b[0;31m---------------------------------------------------------------------------\u001b[0m",
      "\u001b[0;31mTypeError\u001b[0m                                 Traceback (most recent call last)",
      "\u001b[0;32m<ipython-input-24-1e04e155ad4e>\u001b[0m in \u001b[0;36m<module>\u001b[0;34m\u001b[0m\n\u001b[0;32m----> 1\u001b[0;31m \u001b[0mlist\u001b[0m\u001b[0;34m(\u001b[0m\u001b[0;34m(\u001b[0m\u001b[0;36m1\u001b[0m\u001b[0;34m,\u001b[0m \u001b[0;36m2\u001b[0m\u001b[0;34m,\u001b[0m \u001b[0;36m3\u001b[0m\u001b[0;34m)\u001b[0m\u001b[0;34m)\u001b[0m \u001b[0;34m<\u001b[0m \u001b[0;36m1\u001b[0m\u001b[0;34m\u001b[0m\u001b[0;34m\u001b[0m\u001b[0m\n\u001b[0m",
      "\u001b[0;31mTypeError\u001b[0m: '<' not supported between instances of 'list' and 'int'"
     ]
    }
   ],
   "source": [
    "list((1, 2, 3)) < 1"
   ]
  },
  {
   "cell_type": "code",
   "execution_count": 31,
   "metadata": {},
   "outputs": [],
   "source": [
    "f = f.isel(lev=slice(0, 5))"
   ]
  },
  {
   "cell_type": "code",
   "execution_count": 34,
   "metadata": {},
   "outputs": [
    {
     "data": {
      "text/plain": [
       "array([1., 2., 3., 4., 5.])"
      ]
     },
     "execution_count": 34,
     "metadata": {},
     "output_type": "execute_result"
    }
   ],
   "source": [
    "np.linspace(1, 5, 5)"
   ]
  },
  {
   "cell_type": "code",
   "execution_count": 35,
   "metadata": {},
   "outputs": [],
   "source": [
    "(meh, sad) = (1, 2)"
   ]
  },
  {
   "cell_type": "code",
   "execution_count": 36,
   "metadata": {},
   "outputs": [
    {
     "data": {
      "text/plain": [
       "1"
      ]
     },
     "execution_count": 36,
     "metadata": {},
     "output_type": "execute_result"
    }
   ],
   "source": [
    "meh"
   ]
  },
  {
   "cell_type": "code",
   "execution_count": 37,
   "metadata": {},
   "outputs": [
    {
     "data": {
      "text/plain": [
       "2"
      ]
     },
     "execution_count": 37,
     "metadata": {},
     "output_type": "execute_result"
    }
   ],
   "source": [
    "sad"
   ]
  },
  {
   "cell_type": "code",
   "execution_count": null,
   "metadata": {},
   "outputs": [],
   "source": []
  }
 ],
 "metadata": {
  "kernelspec": {
   "display_name": "Python 3",
   "language": "python",
   "name": "python3"
  },
  "language_info": {
   "codemirror_mode": {
    "name": "ipython",
    "version": 3
   },
   "file_extension": ".py",
   "mimetype": "text/x-python",
   "name": "python",
   "nbconvert_exporter": "python",
   "pygments_lexer": "ipython3",
   "version": "3.7.1"
  }
 },
 "nbformat": 4,
 "nbformat_minor": 2
}
