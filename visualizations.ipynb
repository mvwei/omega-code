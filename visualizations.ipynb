{
 "cells": [
  {
   "cell_type": "code",
   "execution_count": 12,
   "metadata": {
    "scrolled": true
   },
   "outputs": [],
   "source": [
    "import numpy as np\n",
    "import xarray as xr\n",
    "import matplotlib.pyplot as plt\n",
    "import importlib\n",
    "import wrf\n",
    "\n",
    "from classes import (\n",
    "    CoordinateField,\n",
    "    ScalarField\n",
    ")\n",
    "from helpers import great_circle_distance\n",
    "\n",
    "f = xr.open_dataset('../data/2013.11.18_regrid.nc')"
   ]
  },
  {
   "cell_type": "code",
   "execution_count": 4,
   "metadata": {},
   "outputs": [
    {
     "ename": "NameError",
     "evalue": "name 'CoordinateField' is not defined",
     "output_type": "error",
     "traceback": [
      "\u001b[0;31m---------------------------------------------------------------------------\u001b[0m",
      "\u001b[0;31mNameError\u001b[0m                                 Traceback (most recent call last)",
      "\u001b[0;32m<ipython-input-4-617310f18c0d>\u001b[0m in \u001b[0;36m<module>\u001b[0;34m\u001b[0m\n\u001b[0;32m----> 1\u001b[0;31m \u001b[0mc\u001b[0m \u001b[0;34m=\u001b[0m \u001b[0mCoordinateField\u001b[0m\u001b[0;34m(\u001b[0m\u001b[0mf\u001b[0m\u001b[0;34m.\u001b[0m\u001b[0mlat\u001b[0m\u001b[0;34m,\u001b[0m \u001b[0mf\u001b[0m\u001b[0;34m.\u001b[0m\u001b[0mlon\u001b[0m\u001b[0;34m,\u001b[0m \u001b[0mgreat_circle_distance\u001b[0m\u001b[0;34m)\u001b[0m\u001b[0;34m\u001b[0m\u001b[0;34m\u001b[0m\u001b[0m\n\u001b[0m\u001b[1;32m      2\u001b[0m \u001b[0ms\u001b[0m \u001b[0;34m=\u001b[0m \u001b[0mScalarField\u001b[0m\u001b[0;34m(\u001b[0m\u001b[0mf\u001b[0m\u001b[0;34m.\u001b[0m\u001b[0mU\u001b[0m\u001b[0;34m,\u001b[0m \u001b[0mc\u001b[0m\u001b[0;34m.\u001b[0m\u001b[0mdx\u001b[0m\u001b[0;34m,\u001b[0m \u001b[0mc\u001b[0m\u001b[0;34m.\u001b[0m\u001b[0mdy\u001b[0m\u001b[0;34m)\u001b[0m\u001b[0;34m\u001b[0m\u001b[0;34m\u001b[0m\u001b[0m\n\u001b[1;32m      3\u001b[0m \u001b[0;34m\u001b[0m\u001b[0m\n\u001b[1;32m      4\u001b[0m \u001b[0mdUdx\u001b[0m \u001b[0;34m=\u001b[0m \u001b[0ms\u001b[0m\u001b[0;34m.\u001b[0m\u001b[0mget_ddx\u001b[0m\u001b[0;34m(\u001b[0m\u001b[0;34m)\u001b[0m\u001b[0;34m\u001b[0m\u001b[0;34m\u001b[0m\u001b[0m\n\u001b[1;32m      5\u001b[0m \u001b[0mdUdy\u001b[0m \u001b[0;34m=\u001b[0m \u001b[0ms\u001b[0m\u001b[0;34m.\u001b[0m\u001b[0mget_ddy\u001b[0m\u001b[0;34m(\u001b[0m\u001b[0;34m)\u001b[0m\u001b[0;34m\u001b[0m\u001b[0;34m\u001b[0m\u001b[0m\n",
      "\u001b[0;31mNameError\u001b[0m: name 'CoordinateField' is not defined"
     ]
    }
   ],
   "source": [
    "c = CoordinateField(f.lat, f.lon, great_circle_distance)\n",
    "s = ScalarField(f.U, c.dx, c.dy)\n",
    "\n",
    "dUdx = s.get_ddx()\n",
    "dUdy = s.get_ddy()"
   ]
  },
  {
   "cell_type": "code",
   "execution_count": 14,
   "metadata": {},
   "outputs": [
    {
     "data": {
      "text/plain": [
       "<xarray.DataArray 'Q' (XTIME: 67, lev: 10, lat: 270, lon: 370)>\n",
       "[66933000 values with dtype=float32]\n",
       "Coordinates:\n",
       "  * lon      (lon) float64 3.0 3.15 3.3 3.45 3.6 ... 57.75 57.9 58.05 58.2 58.35\n",
       "  * lat      (lat) float64 66.0 66.05 66.1 66.15 66.2 ... 79.3 79.35 79.4 79.45\n",
       "  * XTIME    (XTIME) datetime64[ns] 2013-11-18T06:00:00 ... 2013-11-21\n",
       "  * lev      (lev) float64 880.0 865.0 850.0 835.0 ... 525.0 500.0 475.0 450.0\n",
       "Attributes:\n",
       "    long_name:    Water vapor mixing ratio\n",
       "    units:        kg kg-1\n",
       "    description:  Water vapor mixing ratio\n",
       "    FieldType:    104"
      ]
     },
     "execution_count": 14,
     "metadata": {},
     "output_type": "execute_result"
    }
   ],
   "source": [
    "f.Q"
   ]
  },
  {
   "cell_type": "code",
   "execution_count": 52,
   "metadata": {},
   "outputs": [
    {
     "data": {
      "text/plain": [
       "array([[[[1.        , 1.        , 1.        , 1.        ],\n",
       "         [0.5       , 0.5       , 0.5       , 0.5       ]],\n",
       "\n",
       "        [[0.66666667, 0.66666667, 0.66666667, 0.66666667],\n",
       "         [0.5       , 0.5       , 0.5       , 0.5       ]]],\n",
       "\n",
       "\n",
       "       [[[0.2       , 0.2       , 0.2       , 0.2       ],\n",
       "         [0.16666667, 0.16666667, 0.16666667, 0.16666667]],\n",
       "\n",
       "        [[0.28571429, 0.28571429, 0.28571429, 0.28571429],\n",
       "         [0.25      , 0.25      , 0.25      , 0.25      ]]]])"
      ]
     },
     "execution_count": 52,
     "metadata": {},
     "output_type": "execute_result"
    }
   ],
   "source": [
    "a = np.array([\n",
    "    [\n",
    "        [\n",
    "            [1,1,1,1],\n",
    "            [2,2,2,2]\n",
    "        ],\n",
    "        [\n",
    "            [3,3,3,3],\n",
    "            [4,4,4,4]\n",
    "        ],\n",
    "    ],\n",
    "    [\n",
    "        [\n",
    "            [5,5,5,5],\n",
    "            [6,6,6,6]\n",
    "        ],\n",
    "        [\n",
    "            [7,7,7,7],\n",
    "            [8,8,8,8]\n",
    "        ],\n",
    "    ],\n",
    "])\n",
    "b = np.array(\n",
    "    [\n",
    "        [\n",
    "            [1,1,1,1],\n",
    "            [2,2,2,2]\n",
    "        ],\n",
    "        [\n",
    "            [3,3,3,3],\n",
    "            [4,4,4,4]\n",
    "        ],\n",
    "    ],\n",
    ")\n",
    "\n",
    "divisor = np.array([1, 2])\n",
    "\n",
    "divisor[:, np.newaxis, np.newaxis]\n",
    "\n",
    "divisor[:, np.newaxis, np.newaxis]/a"
   ]
  },
  {
   "cell_type": "code",
   "execution_count": 45,
   "metadata": {},
   "outputs": [
    {
     "data": {
      "text/plain": [
       "4"
      ]
     },
     "execution_count": 45,
     "metadata": {},
     "output_type": "execute_result"
    }
   ],
   "source": [
    "[\n",
    "    [\n",
    "        [1]\n",
    "    ],\n",
    "    [\n",
    "        [2]\n",
    "    ],\n",
    "]"
   ]
  },
  {
   "cell_type": "code",
   "execution_count": 63,
   "metadata": {},
   "outputs": [],
   "source": [
    "a = np.array([[[1, 5, 9, 13], [2, 6, 10, 14]], [[4, 8, 12, 16], [4, 8, 12, 16]]])"
   ]
  },
  {
   "cell_type": "code",
   "execution_count": 64,
   "metadata": {},
   "outputs": [
    {
     "data": {
      "text/plain": [
       "array([[[3., 3., 3., 3.],\n",
       "        [2., 2., 2., 2.]],\n",
       "\n",
       "       [[3., 3., 3., 3.],\n",
       "        [2., 2., 2., 2.]]])"
      ]
     },
     "execution_count": 64,
     "metadata": {},
     "output_type": "execute_result"
    }
   ],
   "source": [
    "np.gradient(a, axis=0)"
   ]
  },
  {
   "cell_type": "code",
   "execution_count": 78,
   "metadata": {},
   "outputs": [
    {
     "data": {
      "text/plain": [
       "array([[ 5, 13, 21, 29],\n",
       "       [ 6, 14, 22, 30]])"
      ]
     },
     "execution_count": 78,
     "metadata": {},
     "output_type": "execute_result"
    }
   ],
   "source": [
    "def test_func(row):\n",
    "    return np.sum(row)\n",
    "    \n",
    "np.apply_along_axis(test_func, 0, a)"
   ]
  },
  {
   "cell_type": "code",
   "execution_count": 81,
   "metadata": {},
   "outputs": [
    {
     "data": {
      "text/plain": [
       "array([[[  1,   1,   5,   9,  13],\n",
       "        [100,   2,   6,  10,  14]],\n",
       "\n",
       "       [[  1,   4,   8,  12,  16],\n",
       "        [100,   4,   8,  12,  16]]])"
      ]
     },
     "execution_count": 81,
     "metadata": {},
     "output_type": "execute_result"
    }
   ],
   "source": [
    "np.insert(a, 0, [1, 100], axis=-1)"
   ]
  },
  {
   "cell_type": "code",
   "execution_count": 46,
   "metadata": {},
   "outputs": [
    {
     "data": {
      "text/plain": [
       "array([[1, 2],\n",
       "       [1, 3],\n",
       "       [1, 4]])"
      ]
     },
     "execution_count": 46,
     "metadata": {},
     "output_type": "execute_result"
    }
   ],
   "source": [
    "np.array([(1, 2), (1, 3), (1, 4)])"
   ]
  },
  {
   "cell_type": "code",
   "execution_count": 85,
   "metadata": {},
   "outputs": [],
   "source": [
    "augh = np.array([1, 2, 3])\n",
    "\n",
    "x = np.delete(augh, 0)"
   ]
  },
  {
   "cell_type": "code",
   "execution_count": 88,
   "metadata": {},
   "outputs": [
    {
     "data": {
      "text/plain": [
       "2"
      ]
     },
     "execution_count": 88,
     "metadata": {},
     "output_type": "execute_result"
    }
   ],
   "source": [
    "a.shape[-2]"
   ]
  },
  {
   "cell_type": "code",
   "execution_count": null,
   "metadata": {},
   "outputs": [],
   "source": []
  }
 ],
 "metadata": {
  "kernelspec": {
   "display_name": "Python 3",
   "language": "python",
   "name": "python3"
  },
  "language_info": {
   "codemirror_mode": {
    "name": "ipython",
    "version": 3
   },
   "file_extension": ".py",
   "mimetype": "text/x-python",
   "name": "python",
   "nbconvert_exporter": "python",
   "pygments_lexer": "ipython3",
   "version": "3.7.1"
  }
 },
 "nbformat": 4,
 "nbformat_minor": 2
}
