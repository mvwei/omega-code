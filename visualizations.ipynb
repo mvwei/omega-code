{
 "cells": [
  {
   "cell_type": "code",
   "execution_count": 49,
   "metadata": {
    "scrolled": true
   },
   "outputs": [],
   "source": [
    "import numpy as np\n",
    "import xarray as xr\n",
    "import matplotlib.pyplot as plt\n",
    "import importlib\n",
    "import wrf\n",
    "\n",
    "from classes import (\n",
    "    CoordinateField,\n",
    "    ScalarField\n",
    ")\n",
    "from helpers import (\n",
    "    great_circle_distance,\n",
    "    w_to_omega\n",
    ")\n",
    "\n",
    "# f = xr.open_mfdataset('../data/*.nc')\n",
    "f['lev'] = [880., 865., 850., 835., 820., 550., 525., 500., 475., 450.]\n",
    "f.to_netcdf('../data/2013.11.18_regrid.nc')"
   ]
  },
  {
   "cell_type": "code",
   "execution_count": 29,
   "metadata": {},
   "outputs": [],
   "source": [
    "c = CoordinateField(f.lat, f.lon, great_circle_distance)\n",
    "s = ScalarField(f.U, c.dx, c.dy)\n",
    "\n",
    "dUdx = s.get_ddx()\n",
    "dUdy = s.get_ddy()\n",
    "\n",
    "omega = w_to_omega(w=f.W, temp=f.TK, qv=f.Q, p=f.lev)"
   ]
  },
  {
   "cell_type": "code",
   "execution_count": 30,
   "metadata": {},
   "outputs": [
    {
     "name": "stdout",
     "output_type": "stream",
     "text": [
      "<xarray.DataArray ()>\n",
      "array(-0.000208)\n",
      "Coordinates:\n",
      "    lon      float64 3.6\n",
      "    lat      float64 66.15\n",
      "    XTIME    datetime64[ns] 2013-11-18T07:00:00\n",
      "    lev      float64 850.0 <xarray.DataArray ()>\n",
      "array(-0.000208)\n",
      "Coordinates:\n",
      "    lon      float64 3.6\n",
      "    lat      float64 66.15\n",
      "    XTIME    datetime64[ns] 2013-11-18T07:00:00\n",
      "    lev      float64 850.0\n"
     ]
    }
   ],
   "source": [
    "time_index = 1\n",
    "p_index = 2\n",
    "lat_index = 3\n",
    "lon_index = 4\n",
    "\n",
    "p = f.lev[p_index]\n",
    "temp = f.TK[time_index, p_index, lat_index, lon_index]\n",
    "w = f.W[time_index, p_index, lat_index, lon_index]\n",
    "qv = f.Q[time_index, p_index, lat_index, lon_index]\n",
    "\n",
    "g = 9.81        # m/s**2\n",
    "rgas = 287.04   # J/K/kg\n",
    "eps = 0.622\n",
    "\n",
    "density = (p / (rgas*temp)) * (eps * (1 + qv) / (eps + qv))\n",
    "\n",
    "omega_test = -g * w * density\n",
    "\n",
    "print(omega_test, omega[time_index, p_index, lat_index, lon_index])"
   ]
  },
  {
   "cell_type": "code",
   "execution_count": 17,
   "metadata": {},
   "outputs": [
    {
     "data": {
      "text/plain": [
       "array([[[[1.        , 1.        , 1.        , 1.        ],\n",
       "         [0.5       , 0.5       , 0.5       , 0.5       ]],\n",
       "\n",
       "        [[0.66666667, 0.66666667, 0.66666667, 0.66666667],\n",
       "         [0.5       , 0.5       , 0.5       , 0.5       ]]],\n",
       "\n",
       "\n",
       "       [[[0.2       , 0.2       , 0.2       , 0.2       ],\n",
       "         [0.16666667, 0.16666667, 0.16666667, 0.16666667]],\n",
       "\n",
       "        [[0.28571429, 0.28571429, 0.28571429, 0.28571429],\n",
       "         [0.25      , 0.25      , 0.25      , 0.25      ]]]])"
      ]
     },
     "execution_count": 17,
     "metadata": {},
     "output_type": "execute_result"
    }
   ],
   "source": [
    "a = np.array([\n",
    "    [\n",
    "        [\n",
    "            [1,1,1,1],\n",
    "            [2,2,2,2]\n",
    "        ],\n",
    "        [\n",
    "            [3,3,3,3],\n",
    "            [4,4,4,4]\n",
    "        ],\n",
    "    ],\n",
    "    [\n",
    "        [\n",
    "            [5,5,5,5],\n",
    "            [6,6,6,6]\n",
    "        ],\n",
    "        [\n",
    "            [7,7,7,7],\n",
    "            [8,8,8,8]\n",
    "        ],\n",
    "    ],\n",
    "])\n",
    "b = np.array(\n",
    "    [\n",
    "        [\n",
    "            [1,1,1,1],\n",
    "            [2,2,2,2]\n",
    "        ],\n",
    "        [\n",
    "            [3,3,3,3],\n",
    "            [4,4,4,4]\n",
    "        ],\n",
    "    ],\n",
    ")\n",
    "\n",
    "divisor = np.array([1, 2])\n",
    "\n",
    "divisor[:, np.newaxis, np.newaxis]\n",
    "\n",
    "divisor[:, np.newaxis, np.newaxis]/a"
   ]
  },
  {
   "cell_type": "code",
   "execution_count": 40,
   "metadata": {},
   "outputs": [
    {
     "data": {
      "text/plain": [
       "array([1, 1, 1, 1, 2, 2, 2, 2, 3, 3, 3, 3, 4, 4, 4, 4, 5, 5, 5, 5, 6, 6,\n",
       "       6, 6, 7, 7, 7, 7, 8, 8, 8, 8])"
      ]
     },
     "execution_count": 40,
     "metadata": {},
     "output_type": "execute_result"
    }
   ],
   "source": [
    "np.reshape(a, (-1), order=\"C\")"
   ]
  },
  {
   "cell_type": "code",
   "execution_count": 63,
   "metadata": {},
   "outputs": [],
   "source": [
    "a = np.array([[[1, 5, 9, 13], [2, 6, 10, 14]], [[4, 8, 12, 16], [4, 8, 12, 16]]])"
   ]
  },
  {
   "cell_type": "code",
   "execution_count": 64,
   "metadata": {},
   "outputs": [
    {
     "data": {
      "text/plain": [
       "array([[[3., 3., 3., 3.],\n",
       "        [2., 2., 2., 2.]],\n",
       "\n",
       "       [[3., 3., 3., 3.],\n",
       "        [2., 2., 2., 2.]]])"
      ]
     },
     "execution_count": 64,
     "metadata": {},
     "output_type": "execute_result"
    }
   ],
   "source": [
    "np.gradient(a, axis=0)"
   ]
  },
  {
   "cell_type": "code",
   "execution_count": 78,
   "metadata": {},
   "outputs": [
    {
     "data": {
      "text/plain": [
       "array([[ 5, 13, 21, 29],\n",
       "       [ 6, 14, 22, 30]])"
      ]
     },
     "execution_count": 78,
     "metadata": {},
     "output_type": "execute_result"
    }
   ],
   "source": [
    "def test_func(row):\n",
    "    return np.sum(row)\n",
    "    \n",
    "np.apply_along_axis(test_func, 0, a)"
   ]
  },
  {
   "cell_type": "code",
   "execution_count": 81,
   "metadata": {},
   "outputs": [
    {
     "data": {
      "text/plain": [
       "array([[[  1,   1,   5,   9,  13],\n",
       "        [100,   2,   6,  10,  14]],\n",
       "\n",
       "       [[  1,   4,   8,  12,  16],\n",
       "        [100,   4,   8,  12,  16]]])"
      ]
     },
     "execution_count": 81,
     "metadata": {},
     "output_type": "execute_result"
    }
   ],
   "source": [
    "np.insert(a, 0, [1, 100], axis=-1)"
   ]
  },
  {
   "cell_type": "code",
   "execution_count": 13,
   "metadata": {},
   "outputs": [],
   "source": [
    "fd = np.array([(1, 2), (1, 3), (1, 4)])"
   ]
  },
  {
   "cell_type": "code",
   "execution_count": 85,
   "metadata": {},
   "outputs": [],
   "source": [
    "augh = np.array([1, 2, 3])\n",
    "\n",
    "x = np.delete(augh, 0)"
   ]
  },
  {
   "cell_type": "code",
   "execution_count": 88,
   "metadata": {},
   "outputs": [
    {
     "data": {
      "text/plain": [
       "2"
      ]
     },
     "execution_count": 88,
     "metadata": {},
     "output_type": "execute_result"
    }
   ],
   "source": [
    "a.shape[-2]"
   ]
  },
  {
   "cell_type": "code",
   "execution_count": 42,
   "metadata": {},
   "outputs": [
    {
     "data": {
      "text/plain": [
       "<xarray.DataArray 'lev' (lev: 10)>\n",
       "array([880., 865., 850., 835., 820., 550., 525., 500., 475., 450.])\n",
       "Coordinates:\n",
       "  * lev      (lev) float64 880.0 865.0 850.0 835.0 ... 525.0 500.0 475.0 450.0"
      ]
     },
     "execution_count": 42,
     "metadata": {},
     "output_type": "execute_result"
    }
   ],
   "source": [
    "f.lev"
   ]
  },
  {
   "cell_type": "code",
   "execution_count": 22,
   "metadata": {},
   "outputs": [
    {
     "data": {
      "text/plain": [
       "array([1, 1, 1, 1, 2, 2, 2, 2, 3, 3, 3, 3, 4, 4, 4, 4, 5, 5, 5, 5, 6, 6,\n",
       "       6, 6, 7, 7, 7, 7, 8, 8, 8, 8])"
      ]
     },
     "execution_count": 22,
     "metadata": {},
     "output_type": "execute_result"
    }
   ],
   "source": [
    "np.reshape(a, (-1))"
   ]
  },
  {
   "cell_type": "code",
   "execution_count": 24,
   "metadata": {},
   "outputs": [
    {
     "ename": "TypeError",
     "evalue": "'<' not supported between instances of 'list' and 'int'",
     "output_type": "error",
     "traceback": [
      "\u001b[0;31m---------------------------------------------------------------------------\u001b[0m",
      "\u001b[0;31mTypeError\u001b[0m                                 Traceback (most recent call last)",
      "\u001b[0;32m<ipython-input-24-1e04e155ad4e>\u001b[0m in \u001b[0;36m<module>\u001b[0;34m\u001b[0m\n\u001b[0;32m----> 1\u001b[0;31m \u001b[0mlist\u001b[0m\u001b[0;34m(\u001b[0m\u001b[0;34m(\u001b[0m\u001b[0;36m1\u001b[0m\u001b[0;34m,\u001b[0m \u001b[0;36m2\u001b[0m\u001b[0;34m,\u001b[0m \u001b[0;36m3\u001b[0m\u001b[0;34m)\u001b[0m\u001b[0;34m)\u001b[0m \u001b[0;34m<\u001b[0m \u001b[0;36m1\u001b[0m\u001b[0;34m\u001b[0m\u001b[0;34m\u001b[0m\u001b[0m\n\u001b[0m",
      "\u001b[0;31mTypeError\u001b[0m: '<' not supported between instances of 'list' and 'int'"
     ]
    }
   ],
   "source": [
    "list((1, 2, 3)) < 1"
   ]
  },
  {
   "cell_type": "code",
   "execution_count": 31,
   "metadata": {},
   "outputs": [],
   "source": [
    "f = f.isel(lev=slice(0, 5))"
   ]
  },
  {
   "cell_type": "code",
   "execution_count": 34,
   "metadata": {},
   "outputs": [
    {
     "data": {
      "text/plain": [
       "array([1., 2., 3., 4., 5.])"
      ]
     },
     "execution_count": 34,
     "metadata": {},
     "output_type": "execute_result"
    }
   ],
   "source": [
    "np.linspace(1, 5, 5)"
   ]
  },
  {
   "cell_type": "code",
   "execution_count": 35,
   "metadata": {},
   "outputs": [],
   "source": [
    "(meh, sad) = (1, 2)"
   ]
  },
  {
   "cell_type": "code",
   "execution_count": 36,
   "metadata": {},
   "outputs": [
    {
     "data": {
      "text/plain": [
       "1"
      ]
     },
     "execution_count": 36,
     "metadata": {},
     "output_type": "execute_result"
    }
   ],
   "source": [
    "meh"
   ]
  },
  {
   "cell_type": "code",
   "execution_count": 37,
   "metadata": {},
   "outputs": [
    {
     "data": {
      "text/plain": [
       "2"
      ]
     },
     "execution_count": 37,
     "metadata": {},
     "output_type": "execute_result"
    }
   ],
   "source": [
    "sad"
   ]
  },
  {
   "cell_type": "code",
   "execution_count": 58,
   "metadata": {},
   "outputs": [
    {
     "data": {
      "text/plain": [
       "<xarray.DataArray 'W' (lat: 270, lon: 370)>\n",
       "array([[ 0.022839,  0.021565,  0.020461, ..., -0.023529,  0.091806,  0.192445],\n",
       "       [ 0.021315,  0.022669,  0.021565, ..., -0.040189,  0.118742,  0.167727],\n",
       "       [ 0.01652 ,  0.022839,  0.022668, ..., -0.043756,  0.11635 ,  0.101954],\n",
       "       ...,\n",
       "       [ 0.012025,  0.006731,  0.003095, ..., -0.011058, -0.006555, -0.003922],\n",
       "       [ 0.011823,  0.006979,  0.002785, ..., -0.004747, -0.003649, -0.003248],\n",
       "       [ 0.011215,  0.005595,  0.00062 , ..., -0.001121, -0.00106 , -0.001612]],\n",
       "      dtype=float32)\n",
       "Coordinates:\n",
       "  * lon      (lon) float64 3.0 3.15 3.3 3.45 3.6 ... 57.75 57.9 58.05 58.2 58.35\n",
       "  * lat      (lat) float64 66.0 66.05 66.1 66.15 66.2 ... 79.3 79.35 79.4 79.45\n",
       "    XTIME    datetime64[ns] 2013-11-20T16:00:00\n",
       "    lev      float64 880.0\n",
       "Attributes:\n",
       "    long_name:    Z-wind component\n",
       "    units:        m s-1\n",
       "    description:  z-wind component\n",
       "    FieldType:    104\n",
       "    stagger:       "
      ]
     },
     "execution_count": 58,
     "metadata": {},
     "output_type": "execute_result"
    }
   ],
   "source": [
    "f.W[-9, 0, :, :]"
   ]
  },
  {
   "cell_type": "code",
   "execution_count": 72,
   "metadata": {},
   "outputs": [
    {
     "data": {
      "text/plain": [
       "<xarray.DataArray 'HFX' (XTIME: 67, lat: 270, lon: 370)>\n",
       "dask.array<shape=(67, 270, 370), dtype=float32, chunksize=(67, 270, 370)>\n",
       "Coordinates:\n",
       "  * lon      (lon) float64 3.0 3.15 3.3 3.45 3.6 ... 57.75 57.9 58.05 58.2 58.35\n",
       "  * lat      (lat) float64 66.0 66.05 66.1 66.15 66.2 ... 79.3 79.35 79.4 79.45\n",
       "  * XTIME    (XTIME) datetime64[ns] 2013-11-18T06:00:00 ... 2013-11-21\n",
       "Attributes:\n",
       "    units:        W m-2\n",
       "    FieldType:    104\n",
       "    MemoryOrder:  XY \n",
       "    description:  UPWARD HEAT FLUX AT THE SURFACE\n",
       "    stagger:      "
      ]
     },
     "execution_count": 72,
     "metadata": {},
     "output_type": "execute_result"
    }
   ],
   "source": [
    "f.HFX"
   ]
  },
  {
   "cell_type": "code",
   "execution_count": 80,
   "metadata": {},
   "outputs": [
    {
     "data": {
      "text/plain": [
       "<xarray.DataArray 'Q' (XTIME: 67, lev: 10, lat: 270, lon: 370)>\n",
       "dask.array<shape=(67, 10, 270, 370), dtype=float32, chunksize=(67, 10, 270, 370)>\n",
       "Coordinates:\n",
       "  * lon      (lon) float64 3.0 3.15 3.3 3.45 3.6 ... 57.75 57.9 58.05 58.2 58.35\n",
       "  * lat      (lat) float64 66.0 66.05 66.1 66.15 66.2 ... 79.3 79.35 79.4 79.45\n",
       "  * XTIME    (XTIME) datetime64[ns] 2013-11-18T06:00:00 ... 2013-11-21\n",
       "  * lev      (lev) float64 880.0 865.0 850.0 835.0 ... 525.0 500.0 475.0 450.0\n",
       "Attributes:\n",
       "    long_name:    Water vapor mixing ratio\n",
       "    units:        kg kg-1\n",
       "    description:  Water vapor mixing ratio\n",
       "    FieldType:    104"
      ]
     },
     "execution_count": 80,
     "metadata": {},
     "output_type": "execute_result"
    }
   ],
   "source": [
    "f.Q"
   ]
  },
  {
   "cell_type": "code",
   "execution_count": 79,
   "metadata": {},
   "outputs": [
    {
     "data": {
      "text/plain": [
       "array([[ -7.8489203,  -8.190207 ,  -8.515858 ,  -8.608485 ,  -8.625856 ,\n",
       "         -8.771417 ,  -8.783806 ,  -8.816088 ,  -8.744299 ,  -8.642086 ],\n",
       "       [ -8.48658  ,  -8.779866 ,  -9.087187 ,  -9.158262 ,  -9.160623 ,\n",
       "         -9.266253 ,  -9.253261 ,  -9.179844 ,  -9.178572 ,  -9.101691 ],\n",
       "       [ -9.045821 ,  -9.36234  ,  -9.641285 ,  -9.690358 ,  -9.66053  ,\n",
       "         -9.793297 ,  -9.731135 ,  -9.64497  ,  -9.635209 ,  -9.518249 ],\n",
       "       [ -9.648887 ,  -9.921314 , -10.039349 , -10.201505 , -10.222692 ,\n",
       "        -10.279758 , -10.207149 , -10.090092 , -10.050836 ,  -9.960148 ],\n",
       "       [-10.226849 , -10.498546 , -10.586646 , -10.735505 , -10.760147 ,\n",
       "        -10.687649 , -10.677529 , -10.585637 , -10.515052 , -10.355599 ],\n",
       "       [-10.815898 , -11.055432 , -11.11137  , -11.274778 , -11.2366905,\n",
       "        -11.162092 , -11.111352 , -10.976476 , -10.877798 , -10.713261 ],\n",
       "       [-11.279867 , -11.565483 , -11.665872 , -11.729757 , -11.689391 ,\n",
       "        -11.5884495, -11.513205 , -11.385466 , -11.196908 , -11.045562 ],\n",
       "       [-11.804512 , -12.127639 , -12.152146 , -12.099725 , -12.097889 ,\n",
       "        -11.951844 , -11.891445 , -11.669843 , -11.4375305, -11.255911 ],\n",
       "       [-12.4168005, -12.637636 , -12.619329 , -12.526636 , -12.465168 ,\n",
       "        -12.334925 , -12.156104 , -11.89549  , -11.624272 , -11.48953  ],\n",
       "       [-12.986113 , -13.16221  , -13.049435 , -12.903474 , -12.836666 ,\n",
       "        -12.676675 , -12.430603 , -12.165104 , -11.887349 , -11.644897 ]],\n",
       "      dtype=float32)"
      ]
     },
     "execution_count": 79,
     "metadata": {},
     "output_type": "execute_result"
    }
   ],
   "source": [
    "f.isel(lev=slice(1, 4), lat=slice(100, 110), lon=slice(100, 110)).U[1, 1].values"
   ]
  },
  {
   "cell_type": "code",
   "execution_count": null,
   "metadata": {},
   "outputs": [],
   "source": [
    "from classes import (ScalarField, CoordinateField)\n",
    "\n",
    "tf = f.isel(lev=slice(1, 4), lat=slice(100, 110), lon=slice(100, 110))\n",
    "\n"
   ]
  }
 ],
 "metadata": {
  "kernelspec": {
   "display_name": "Python 3",
   "language": "python",
   "name": "python3"
  },
  "language_info": {
   "codemirror_mode": {
    "name": "ipython",
    "version": 3
   },
   "file_extension": ".py",
   "mimetype": "text/x-python",
   "name": "python",
   "nbconvert_exporter": "python",
   "pygments_lexer": "ipython3",
   "version": "3.7.1"
  }
 },
 "nbformat": 4,
 "nbformat_minor": 2
}
