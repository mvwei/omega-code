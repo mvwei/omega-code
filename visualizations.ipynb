{
 "cells": [
  {
   "cell_type": "code",
   "execution_count": 1,
   "metadata": {
    "scrolled": true
   },
   "outputs": [],
   "source": [
    "import numpy as np\n",
    "import xarray as xr\n",
    "import matplotlib.pyplot as plt\n",
    "\n",
    "from classes import CoordinateField\n",
    "from helpers import get_equidistant_lat_lon\n",
    "\n",
    "f = xr.open_dataset('../data/2013.11.18_regrid.nc')"
   ]
  },
  {
   "cell_type": "code",
   "execution_count": 56,
   "metadata": {},
   "outputs": [
    {
     "data": {
      "text/plain": [
       "array(<zip object at 0x11f4de5c8>, dtype=object)"
      ]
     },
     "execution_count": 56,
     "metadata": {},
     "output_type": "execute_result"
    }
   ],
   "source": [
    "arr = np.array([[1, 2, 3], [3, 4, 3]])\n",
    "\n",
    "np.array(zip(tuple(range(arr.ndim)), [1] * arr.ndim))"
   ]
  },
  {
   "cell_type": "code",
   "execution_count": 2,
   "metadata": {},
   "outputs": [],
   "source": [
    "c = CoordinateField(f.lat, f.lon)"
   ]
  },
  {
   "cell_type": "code",
   "execution_count": 14,
   "metadata": {},
   "outputs": [
    {
     "name": "stdout",
     "output_type": "stream",
     "text": [
      "<xarray.DataArray 'lon' ()>\n",
      "array(9.45)\n",
      "Coordinates:\n",
      "    lon      float64 9.45\n",
      "    lat      float64 68.65\n",
      "    XTIME    datetime64[ns] 2013-11-18T06:00:00\n",
      "    lev      float64 880.0\n",
      "Attributes:\n",
      "    standard_name:  longitude\n",
      "    long_name:      longitude\n",
      "    units:          degrees_east\n",
      "    axis:           X 9.45\n"
     ]
    }
   ],
   "source": [
    "x = 43\n",
    "y = 53\n",
    "\n",
    "lat, lon = c.coors[y, x]\n",
    "\n",
    "data_lat = f.U[0, 0, y, x].lat\n",
    "data_lon = f.U[0, 0, y, x].lon\n",
    "\n",
    "print(data_lon, lon)\n",
    "\n",
    "if lat != data_lat or lon != data_lon:\n",
    "    print(lat, lon)"
   ]
  },
  {
   "cell_type": "code",
   "execution_count": 63,
   "metadata": {},
   "outputs": [],
   "source": [
    "a = np.array([[[1, 5, 9, 13], [2, 6, 10, 14]], [[4, 8, 12, 16], [4, 8, 12, 16]]])"
   ]
  },
  {
   "cell_type": "code",
   "execution_count": 64,
   "metadata": {},
   "outputs": [
    {
     "data": {
      "text/plain": [
       "array([[[3., 3., 3., 3.],\n",
       "        [2., 2., 2., 2.]],\n",
       "\n",
       "       [[3., 3., 3., 3.],\n",
       "        [2., 2., 2., 2.]]])"
      ]
     },
     "execution_count": 64,
     "metadata": {},
     "output_type": "execute_result"
    }
   ],
   "source": [
    "np.gradient(a, axis=0)"
   ]
  },
  {
   "cell_type": "code",
   "execution_count": 78,
   "metadata": {},
   "outputs": [
    {
     "data": {
      "text/plain": [
       "array([[ 5, 13, 21, 29],\n",
       "       [ 6, 14, 22, 30]])"
      ]
     },
     "execution_count": 78,
     "metadata": {},
     "output_type": "execute_result"
    }
   ],
   "source": [
    "def test_func(row):\n",
    "    return np.sum(row)\n",
    "    \n",
    "np.apply_along_axis(test_func, 0, a)"
   ]
  },
  {
   "cell_type": "code",
   "execution_count": 81,
   "metadata": {},
   "outputs": [
    {
     "data": {
      "text/plain": [
       "array([[[  1,   1,   5,   9,  13],\n",
       "        [100,   2,   6,  10,  14]],\n",
       "\n",
       "       [[  1,   4,   8,  12,  16],\n",
       "        [100,   4,   8,  12,  16]]])"
      ]
     },
     "execution_count": 81,
     "metadata": {},
     "output_type": "execute_result"
    }
   ],
   "source": [
    "np.insert(a, 0, [1, 100], axis=-1)"
   ]
  },
  {
   "cell_type": "code",
   "execution_count": 46,
   "metadata": {},
   "outputs": [
    {
     "data": {
      "text/plain": [
       "array([[1, 2],\n",
       "       [1, 3],\n",
       "       [1, 4]])"
      ]
     },
     "execution_count": 46,
     "metadata": {},
     "output_type": "execute_result"
    }
   ],
   "source": [
    "np.array([(1, 2), (1, 3), (1, 4)])"
   ]
  },
  {
   "cell_type": "code",
   "execution_count": 85,
   "metadata": {},
   "outputs": [],
   "source": [
    "augh = np.array([1, 2, 3])\n",
    "\n",
    "x = np.delete(augh, 0)"
   ]
  },
  {
   "cell_type": "code",
   "execution_count": 86,
   "metadata": {},
   "outputs": [
    {
     "data": {
      "text/plain": [
       "array([2, 3])"
      ]
     },
     "execution_count": 86,
     "metadata": {},
     "output_type": "execute_result"
    }
   ],
   "source": [
    "x"
   ]
  },
  {
   "cell_type": "code",
   "execution_count": null,
   "metadata": {},
   "outputs": [],
   "source": []
  }
 ],
 "metadata": {
  "kernelspec": {
   "display_name": "Python 3",
   "language": "python",
   "name": "python3"
  },
  "language_info": {
   "codemirror_mode": {
    "name": "ipython",
    "version": 3
   },
   "file_extension": ".py",
   "mimetype": "text/x-python",
   "name": "python",
   "nbconvert_exporter": "python",
   "pygments_lexer": "ipython3",
   "version": "3.7.1"
  }
 },
 "nbformat": 4,
 "nbformat_minor": 2
}
