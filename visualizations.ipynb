{
 "cells": [
  {
   "cell_type": "code",
   "execution_count": 1,
   "metadata": {
    "scrolled": true
   },
   "outputs": [],
   "source": [
    "import numpy as np\n",
    "import xarray as xr\n",
    "import matplotlib.pyplot as plt\n",
    "import importlib\n",
    "import wrf\n",
    "import pandas as pd\n",
    "\n",
    "from classes import (\n",
    "    CoordinateField,\n",
    "    ScalarField\n",
    ")\n",
    "from helpers import (\n",
    "    great_circle_distance,\n",
    "    w_to_omega\n",
    ")\n",
    "\n",
    "# f = xr.open_mfdataset('../data/*.nc')\n",
    "# f['lev'] = np.array([880.0, 865.0, 850., 835., 820., 550., 525., 500., 475., 450.])\n",
    "# f.to_netcdf('../data/2013.11.18_regrid.nc')\n",
    "\n",
    "f = xr.open_dataset('../data/2013.11.18_regrid.nc')\n",
    "low_file = pd.read_csv(\"../data/PL_2013-11-18-0600_20-4km_stormtrack1.csv\")\n",
    "\n",
    "dump = xr.open_dataset('../data/2013.11.18_calc_data_dump.nc')"
   ]
  },
  {
   "cell_type": "code",
   "execution_count": 29,
   "metadata": {},
   "outputs": [],
   "source": [
    "c = CoordinateField(f.lat, f.lon, great_circle_distance)\n",
    "s = ScalarField(f.U, c.dx, c.dy)\n",
    "\n",
    "dUdx = s.get_ddx()\n",
    "dUdy = s.get_ddy()\n",
    "\n",
    "omega = w_to_omega(w=f.W, temp=f.TK, qv=f.Q, p=f.lev)"
   ]
  },
  {
   "cell_type": "code",
   "execution_count": 30,
   "metadata": {},
   "outputs": [
    {
     "name": "stdout",
     "output_type": "stream",
     "text": [
      "<xarray.DataArray ()>\n",
      "array(-0.000208)\n",
      "Coordinates:\n",
      "    lon      float64 3.6\n",
      "    lat      float64 66.15\n",
      "    XTIME    datetime64[ns] 2013-11-18T07:00:00\n",
      "    lev      float64 850.0 <xarray.DataArray ()>\n",
      "array(-0.000208)\n",
      "Coordinates:\n",
      "    lon      float64 3.6\n",
      "    lat      float64 66.15\n",
      "    XTIME    datetime64[ns] 2013-11-18T07:00:00\n",
      "    lev      float64 850.0\n"
     ]
    }
   ],
   "source": [
    "time_index = 1\n",
    "p_index = 2\n",
    "lat_index = 3\n",
    "lon_index = 4\n",
    "\n",
    "p = f.lev[p_index]\n",
    "temp = f.TK[time_index, p_index, lat_index, lon_index]\n",
    "w = f.W[time_index, p_index, lat_index, lon_index]\n",
    "qv = f.Q[time_index, p_index, lat_index, lon_index]\n",
    "\n",
    "g = 9.81        # m/s**2\n",
    "rgas = 287.04   # J/K/kg\n",
    "eps = 0.622\n",
    "\n",
    "density = (p / (rgas*temp)) * (eps * (1 + qv) / (eps + qv))\n",
    "\n",
    "omega_test = -g * w * density\n",
    "\n",
    "print(omega_test, omega[time_index, p_index, lat_index, lon_index])"
   ]
  },
  {
   "cell_type": "code",
   "execution_count": 17,
   "metadata": {},
   "outputs": [
    {
     "data": {
      "text/plain": [
       "array([[[[1.        , 1.        , 1.        , 1.        ],\n",
       "         [0.5       , 0.5       , 0.5       , 0.5       ]],\n",
       "\n",
       "        [[0.66666667, 0.66666667, 0.66666667, 0.66666667],\n",
       "         [0.5       , 0.5       , 0.5       , 0.5       ]]],\n",
       "\n",
       "\n",
       "       [[[0.2       , 0.2       , 0.2       , 0.2       ],\n",
       "         [0.16666667, 0.16666667, 0.16666667, 0.16666667]],\n",
       "\n",
       "        [[0.28571429, 0.28571429, 0.28571429, 0.28571429],\n",
       "         [0.25      , 0.25      , 0.25      , 0.25      ]]]])"
      ]
     },
     "execution_count": 17,
     "metadata": {},
     "output_type": "execute_result"
    }
   ],
   "source": [
    "a = np.array([\n",
    "    [\n",
    "        [\n",
    "            [1,1,1,1],\n",
    "            [2,2,2,2]\n",
    "        ],\n",
    "        [\n",
    "            [3,3,3,3],\n",
    "            [4,4,4,4]\n",
    "        ],\n",
    "    ],\n",
    "    [\n",
    "        [\n",
    "            [5,5,5,5],\n",
    "            [6,6,6,6]\n",
    "        ],\n",
    "        [\n",
    "            [7,7,7,7],\n",
    "            [8,8,8,8]\n",
    "        ],\n",
    "    ],\n",
    "])\n",
    "b = np.array(\n",
    "    [\n",
    "        [\n",
    "            [1,1,1,1],\n",
    "            [2,2,2,2]\n",
    "        ],\n",
    "        [\n",
    "            [3,3,3,3],\n",
    "            [4,4,4,4]\n",
    "        ],\n",
    "    ],\n",
    ")\n",
    "\n",
    "divisor = np.array([1, 2])\n",
    "\n",
    "divisor[:, np.newaxis, np.newaxis]\n",
    "\n",
    "divisor[:, np.newaxis, np.newaxis]/a"
   ]
  },
  {
   "cell_type": "code",
   "execution_count": 40,
   "metadata": {},
   "outputs": [
    {
     "data": {
      "text/plain": [
       "array([1, 1, 1, 1, 2, 2, 2, 2, 3, 3, 3, 3, 4, 4, 4, 4, 5, 5, 5, 5, 6, 6,\n",
       "       6, 6, 7, 7, 7, 7, 8, 8, 8, 8])"
      ]
     },
     "execution_count": 40,
     "metadata": {},
     "output_type": "execute_result"
    }
   ],
   "source": [
    "np.reshape(a, (-1), order=\"C\")"
   ]
  },
  {
   "cell_type": "code",
   "execution_count": 63,
   "metadata": {},
   "outputs": [],
   "source": [
    "a = np.array([[[1, 5, 9, 13], [2, 6, 10, 14]], [[4, 8, 12, 16], [4, 8, 12, 16]]])"
   ]
  },
  {
   "cell_type": "code",
   "execution_count": 64,
   "metadata": {},
   "outputs": [
    {
     "data": {
      "text/plain": [
       "array([[[3., 3., 3., 3.],\n",
       "        [2., 2., 2., 2.]],\n",
       "\n",
       "       [[3., 3., 3., 3.],\n",
       "        [2., 2., 2., 2.]]])"
      ]
     },
     "execution_count": 64,
     "metadata": {},
     "output_type": "execute_result"
    }
   ],
   "source": [
    "np.gradient(a, axis=0)"
   ]
  },
  {
   "cell_type": "code",
   "execution_count": 78,
   "metadata": {},
   "outputs": [
    {
     "data": {
      "text/plain": [
       "array([[ 5, 13, 21, 29],\n",
       "       [ 6, 14, 22, 30]])"
      ]
     },
     "execution_count": 78,
     "metadata": {},
     "output_type": "execute_result"
    }
   ],
   "source": [
    "def test_func(row):\n",
    "    return np.sum(row)\n",
    "    \n",
    "np.apply_along_axis(test_func, 0, a)"
   ]
  },
  {
   "cell_type": "code",
   "execution_count": 81,
   "metadata": {},
   "outputs": [
    {
     "data": {
      "text/plain": [
       "array([[[  1,   1,   5,   9,  13],\n",
       "        [100,   2,   6,  10,  14]],\n",
       "\n",
       "       [[  1,   4,   8,  12,  16],\n",
       "        [100,   4,   8,  12,  16]]])"
      ]
     },
     "execution_count": 81,
     "metadata": {},
     "output_type": "execute_result"
    }
   ],
   "source": [
    "np.insert(a, 0, [1, 100], axis=-1)"
   ]
  },
  {
   "cell_type": "code",
   "execution_count": 13,
   "metadata": {},
   "outputs": [],
   "source": [
    "fd = np.array([(1, 2), (1, 3), (1, 4)])"
   ]
  },
  {
   "cell_type": "code",
   "execution_count": 85,
   "metadata": {},
   "outputs": [],
   "source": [
    "augh = np.array([1, 2, 3])\n",
    "\n",
    "x = np.delete(augh, 0)"
   ]
  },
  {
   "cell_type": "code",
   "execution_count": 88,
   "metadata": {},
   "outputs": [
    {
     "data": {
      "text/plain": [
       "2"
      ]
     },
     "execution_count": 88,
     "metadata": {},
     "output_type": "execute_result"
    }
   ],
   "source": [
    "a.shape[-2]"
   ]
  },
  {
   "cell_type": "code",
   "execution_count": 42,
   "metadata": {},
   "outputs": [
    {
     "data": {
      "text/plain": [
       "<xarray.DataArray 'lev' (lev: 10)>\n",
       "array([880., 865., 850., 835., 820., 550., 525., 500., 475., 450.])\n",
       "Coordinates:\n",
       "  * lev      (lev) float64 880.0 865.0 850.0 835.0 ... 525.0 500.0 475.0 450.0"
      ]
     },
     "execution_count": 42,
     "metadata": {},
     "output_type": "execute_result"
    }
   ],
   "source": [
    "f.lev"
   ]
  },
  {
   "cell_type": "code",
   "execution_count": 22,
   "metadata": {},
   "outputs": [
    {
     "data": {
      "text/plain": [
       "array([1, 1, 1, 1, 2, 2, 2, 2, 3, 3, 3, 3, 4, 4, 4, 4, 5, 5, 5, 5, 6, 6,\n",
       "       6, 6, 7, 7, 7, 7, 8, 8, 8, 8])"
      ]
     },
     "execution_count": 22,
     "metadata": {},
     "output_type": "execute_result"
    }
   ],
   "source": [
    "np.reshape(a, (-1))"
   ]
  },
  {
   "cell_type": "code",
   "execution_count": 24,
   "metadata": {},
   "outputs": [
    {
     "ename": "TypeError",
     "evalue": "'<' not supported between instances of 'list' and 'int'",
     "output_type": "error",
     "traceback": [
      "\u001b[0;31m---------------------------------------------------------------------------\u001b[0m",
      "\u001b[0;31mTypeError\u001b[0m                                 Traceback (most recent call last)",
      "\u001b[0;32m<ipython-input-24-1e04e155ad4e>\u001b[0m in \u001b[0;36m<module>\u001b[0;34m\u001b[0m\n\u001b[0;32m----> 1\u001b[0;31m \u001b[0mlist\u001b[0m\u001b[0;34m(\u001b[0m\u001b[0;34m(\u001b[0m\u001b[0;36m1\u001b[0m\u001b[0;34m,\u001b[0m \u001b[0;36m2\u001b[0m\u001b[0;34m,\u001b[0m \u001b[0;36m3\u001b[0m\u001b[0;34m)\u001b[0m\u001b[0;34m)\u001b[0m \u001b[0;34m<\u001b[0m \u001b[0;36m1\u001b[0m\u001b[0;34m\u001b[0m\u001b[0;34m\u001b[0m\u001b[0m\n\u001b[0m",
      "\u001b[0;31mTypeError\u001b[0m: '<' not supported between instances of 'list' and 'int'"
     ]
    }
   ],
   "source": [
    "list((1, 2, 3)) < 1"
   ]
  },
  {
   "cell_type": "code",
   "execution_count": 31,
   "metadata": {},
   "outputs": [],
   "source": [
    "f = f.isel(lev=slice(0, 5))"
   ]
  },
  {
   "cell_type": "code",
   "execution_count": 34,
   "metadata": {},
   "outputs": [
    {
     "data": {
      "text/plain": [
       "array([1., 2., 3., 4., 5.])"
      ]
     },
     "execution_count": 34,
     "metadata": {},
     "output_type": "execute_result"
    }
   ],
   "source": [
    "np.linspace(1, 5, 5)"
   ]
  },
  {
   "cell_type": "code",
   "execution_count": 35,
   "metadata": {},
   "outputs": [],
   "source": [
    "(meh, sad) = (1, 2)"
   ]
  },
  {
   "cell_type": "code",
   "execution_count": 36,
   "metadata": {},
   "outputs": [
    {
     "data": {
      "text/plain": [
       "1"
      ]
     },
     "execution_count": 36,
     "metadata": {},
     "output_type": "execute_result"
    }
   ],
   "source": [
    "meh"
   ]
  },
  {
   "cell_type": "code",
   "execution_count": 37,
   "metadata": {},
   "outputs": [
    {
     "data": {
      "text/plain": [
       "2"
      ]
     },
     "execution_count": 37,
     "metadata": {},
     "output_type": "execute_result"
    }
   ],
   "source": [
    "sad"
   ]
  },
  {
   "cell_type": "code",
   "execution_count": 58,
   "metadata": {},
   "outputs": [
    {
     "data": {
      "text/plain": [
       "<xarray.DataArray 'W' (lat: 270, lon: 370)>\n",
       "array([[ 0.022839,  0.021565,  0.020461, ..., -0.023529,  0.091806,  0.192445],\n",
       "       [ 0.021315,  0.022669,  0.021565, ..., -0.040189,  0.118742,  0.167727],\n",
       "       [ 0.01652 ,  0.022839,  0.022668, ..., -0.043756,  0.11635 ,  0.101954],\n",
       "       ...,\n",
       "       [ 0.012025,  0.006731,  0.003095, ..., -0.011058, -0.006555, -0.003922],\n",
       "       [ 0.011823,  0.006979,  0.002785, ..., -0.004747, -0.003649, -0.003248],\n",
       "       [ 0.011215,  0.005595,  0.00062 , ..., -0.001121, -0.00106 , -0.001612]],\n",
       "      dtype=float32)\n",
       "Coordinates:\n",
       "  * lon      (lon) float64 3.0 3.15 3.3 3.45 3.6 ... 57.75 57.9 58.05 58.2 58.35\n",
       "  * lat      (lat) float64 66.0 66.05 66.1 66.15 66.2 ... 79.3 79.35 79.4 79.45\n",
       "    XTIME    datetime64[ns] 2013-11-20T16:00:00\n",
       "    lev      float64 880.0\n",
       "Attributes:\n",
       "    long_name:    Z-wind component\n",
       "    units:        m s-1\n",
       "    description:  z-wind component\n",
       "    FieldType:    104\n",
       "    stagger:       "
      ]
     },
     "execution_count": 58,
     "metadata": {},
     "output_type": "execute_result"
    }
   ],
   "source": [
    "f.W[-9, 0, :, :]"
   ]
  },
  {
   "cell_type": "code",
   "execution_count": 72,
   "metadata": {},
   "outputs": [
    {
     "data": {
      "text/plain": [
       "<xarray.DataArray 'HFX' (XTIME: 67, lat: 270, lon: 370)>\n",
       "dask.array<shape=(67, 270, 370), dtype=float32, chunksize=(67, 270, 370)>\n",
       "Coordinates:\n",
       "  * lon      (lon) float64 3.0 3.15 3.3 3.45 3.6 ... 57.75 57.9 58.05 58.2 58.35\n",
       "  * lat      (lat) float64 66.0 66.05 66.1 66.15 66.2 ... 79.3 79.35 79.4 79.45\n",
       "  * XTIME    (XTIME) datetime64[ns] 2013-11-18T06:00:00 ... 2013-11-21\n",
       "Attributes:\n",
       "    units:        W m-2\n",
       "    FieldType:    104\n",
       "    MemoryOrder:  XY \n",
       "    description:  UPWARD HEAT FLUX AT THE SURFACE\n",
       "    stagger:      "
      ]
     },
     "execution_count": 72,
     "metadata": {},
     "output_type": "execute_result"
    }
   ],
   "source": [
    "f.HFX"
   ]
  },
  {
   "cell_type": "code",
   "execution_count": 80,
   "metadata": {},
   "outputs": [
    {
     "data": {
      "text/plain": [
       "<xarray.DataArray 'Q' (XTIME: 67, lev: 10, lat: 270, lon: 370)>\n",
       "dask.array<shape=(67, 10, 270, 370), dtype=float32, chunksize=(67, 10, 270, 370)>\n",
       "Coordinates:\n",
       "  * lon      (lon) float64 3.0 3.15 3.3 3.45 3.6 ... 57.75 57.9 58.05 58.2 58.35\n",
       "  * lat      (lat) float64 66.0 66.05 66.1 66.15 66.2 ... 79.3 79.35 79.4 79.45\n",
       "  * XTIME    (XTIME) datetime64[ns] 2013-11-18T06:00:00 ... 2013-11-21\n",
       "  * lev      (lev) float64 880.0 865.0 850.0 835.0 ... 525.0 500.0 475.0 450.0\n",
       "Attributes:\n",
       "    long_name:    Water vapor mixing ratio\n",
       "    units:        kg kg-1\n",
       "    description:  Water vapor mixing ratio\n",
       "    FieldType:    104"
      ]
     },
     "execution_count": 80,
     "metadata": {},
     "output_type": "execute_result"
    }
   ],
   "source": [
    "f.Q"
   ]
  },
  {
   "cell_type": "code",
   "execution_count": 79,
   "metadata": {},
   "outputs": [
    {
     "data": {
      "text/plain": [
       "array([[ -7.8489203,  -8.190207 ,  -8.515858 ,  -8.608485 ,  -8.625856 ,\n",
       "         -8.771417 ,  -8.783806 ,  -8.816088 ,  -8.744299 ,  -8.642086 ],\n",
       "       [ -8.48658  ,  -8.779866 ,  -9.087187 ,  -9.158262 ,  -9.160623 ,\n",
       "         -9.266253 ,  -9.253261 ,  -9.179844 ,  -9.178572 ,  -9.101691 ],\n",
       "       [ -9.045821 ,  -9.36234  ,  -9.641285 ,  -9.690358 ,  -9.66053  ,\n",
       "         -9.793297 ,  -9.731135 ,  -9.64497  ,  -9.635209 ,  -9.518249 ],\n",
       "       [ -9.648887 ,  -9.921314 , -10.039349 , -10.201505 , -10.222692 ,\n",
       "        -10.279758 , -10.207149 , -10.090092 , -10.050836 ,  -9.960148 ],\n",
       "       [-10.226849 , -10.498546 , -10.586646 , -10.735505 , -10.760147 ,\n",
       "        -10.687649 , -10.677529 , -10.585637 , -10.515052 , -10.355599 ],\n",
       "       [-10.815898 , -11.055432 , -11.11137  , -11.274778 , -11.2366905,\n",
       "        -11.162092 , -11.111352 , -10.976476 , -10.877798 , -10.713261 ],\n",
       "       [-11.279867 , -11.565483 , -11.665872 , -11.729757 , -11.689391 ,\n",
       "        -11.5884495, -11.513205 , -11.385466 , -11.196908 , -11.045562 ],\n",
       "       [-11.804512 , -12.127639 , -12.152146 , -12.099725 , -12.097889 ,\n",
       "        -11.951844 , -11.891445 , -11.669843 , -11.4375305, -11.255911 ],\n",
       "       [-12.4168005, -12.637636 , -12.619329 , -12.526636 , -12.465168 ,\n",
       "        -12.334925 , -12.156104 , -11.89549  , -11.624272 , -11.48953  ],\n",
       "       [-12.986113 , -13.16221  , -13.049435 , -12.903474 , -12.836666 ,\n",
       "        -12.676675 , -12.430603 , -12.165104 , -11.887349 , -11.644897 ]],\n",
       "      dtype=float32)"
      ]
     },
     "execution_count": 79,
     "metadata": {},
     "output_type": "execute_result"
    }
   ],
   "source": [
    "f.isel(lev=slice(1, 4), lat=slice(100, 110), lon=slice(100, 110)).U[1, 1].values"
   ]
  },
  {
   "cell_type": "code",
   "execution_count": 5,
   "metadata": {},
   "outputs": [
    {
     "data": {
      "text/plain": [
       "<xarray.Dataset>\n",
       "Dimensions:  (XTIME: 67, lat: 270, lev: 2, lon: 370)\n",
       "Coordinates:\n",
       "  * lon      (lon) float64 3.0 3.15 3.3 3.45 3.6 ... 57.75 57.9 58.05 58.2 58.35\n",
       "  * lat      (lat) float64 66.0 66.05 66.1 66.15 66.2 ... 79.3 79.35 79.4 79.45\n",
       "  * XTIME    (XTIME) datetime64[ns] 2013-11-18T06:00:00 ... 2013-11-21\n",
       "  * lev      (lev) float64 880.0 850.0\n",
       "Data variables:\n",
       "    HFX      (XTIME, lat, lon) float32 ...\n",
       "    LH       (XTIME, lat, lon) float32 ...\n",
       "    Q        (XTIME, lev, lat, lon) float32 ...\n",
       "    Q2       (XTIME, lat, lon) float32 ...\n",
       "    T2       (XTIME, lat, lon) float32 ...\n",
       "    TK       (XTIME, lev, lat, lon) float32 ...\n",
       "    U        (XTIME, lev, lat, lon) float32 ...\n",
       "    U10      (XTIME, lat, lon) float32 ...\n",
       "    V        (XTIME, lev, lat, lon) float32 ...\n",
       "    V10      (XTIME, lat, lon) float32 ...\n",
       "    W        (XTIME, lev, lat, lon) float32 ...\n",
       "    Z        (XTIME, lev, lat, lon) float32 ...\n",
       "Attributes:\n",
       "    CDI:          Climate Data Interface version 1.7.2 (http://mpimet.mpg.de/...\n",
       "    Conventions:  CF-1.4\n",
       "    history:      Mon Apr 15 12:29:35 2019: cdo remapdis,latlongrid.txt surfa...\n",
       "    CDO:          Climate Data Operators version 1.7.2 (http://mpimet.mpg.de/..."
      ]
     },
     "execution_count": 5,
     "metadata": {},
     "output_type": "execute_result"
    }
   ],
   "source": [
    "f.sel(lev=[880, 850])"
   ]
  },
  {
   "cell_type": "code",
   "execution_count": 34,
   "metadata": {},
   "outputs": [
    {
     "data": {
      "text/plain": [
       "2.0"
      ]
     },
     "execution_count": 34,
     "metadata": {},
     "output_type": "execute_result"
    }
   ],
   "source": [
    "np.mean([1,2,3])"
   ]
  },
  {
   "cell_type": "code",
   "execution_count": 43,
   "metadata": {},
   "outputs": [
    {
     "data": {
      "text/plain": [
       "<xarray.DataArray 'lon' (lon: 3)>\n",
       "array([3.15, 3.3 , 3.15])\n",
       "Coordinates:\n",
       "  * lon      (lon) float64 3.15 3.3 3.15\n",
       "Attributes:\n",
       "    standard_name:  longitude\n",
       "    long_name:      longitude\n",
       "    units:          degrees_east\n",
       "    axis:           X"
      ]
     },
     "execution_count": 43,
     "metadata": {},
     "output_type": "execute_result"
    }
   ],
   "source": [
    "f.lon.sel(lon=[3.1,3.3,3.1], method=\"nearest\")"
   ]
  },
  {
   "cell_type": "code",
   "execution_count": 52,
   "metadata": {},
   "outputs": [
    {
     "data": {
      "text/plain": [
       "<xarray.DataArray 'lon' (lon: 67)>\n",
       "array([58.35,  7.8 ,  9.75, 10.8 , 12.15, 12.75, 13.95, 14.55, 16.2 , 16.8 ,\n",
       "       17.85, 18.45, 19.5 , 19.65, 20.1 , 22.5 , 22.5 , 22.8 , 23.1 , 23.25,\n",
       "       23.55, 23.1 , 20.1 , 19.5 , 19.65, 20.1 , 19.35, 19.5 , 21.9 , 22.05,\n",
       "       21.9 , 22.8 , 23.85, 24.15, 23.7 , 23.7 , 23.85, 24.3 , 24.9 , 25.35,\n",
       "       26.25, 25.95, 26.7 , 27.3 , 27.9 , 28.65, 29.4 , 30.3 , 31.95, 32.85,\n",
       "       33.3 , 34.65, 35.85, 37.2 , 38.4 , 39.15, 40.35, 41.7 , 43.05, 44.7 ,\n",
       "       46.2 , 47.55, 49.05, 50.7 , 58.35, 58.35, 58.35])\n",
       "Coordinates:\n",
       "  * lon      (lon) float64 58.35 7.8 9.75 10.8 12.15 ... 50.7 58.35 58.35 58.35\n",
       "Attributes:\n",
       "    standard_name:  longitude\n",
       "    long_name:      longitude\n",
       "    units:          degrees_east\n",
       "    axis:           X"
      ]
     },
     "execution_count": 52,
     "metadata": {},
     "output_type": "execute_result"
    }
   ],
   "source": [
    "f.lon.sel(lon=x[\"Longitude\"].values, method=\"nearest\")"
   ]
  },
  {
   "cell_type": "code",
   "execution_count": 64,
   "metadata": {},
   "outputs": [
    {
     "data": {
      "text/plain": [
       "32"
      ]
     },
     "execution_count": 64,
     "metadata": {},
     "output_type": "execute_result"
    }
   ],
   "source": [
    "np.where(f.lon==7.8)[0][0]"
   ]
  },
  {
   "cell_type": "code",
   "execution_count": 8,
   "metadata": {},
   "outputs": [
    {
     "data": {
      "text/html": [
       "<div>\n",
       "<style scoped>\n",
       "    .dataframe tbody tr th:only-of-type {\n",
       "        vertical-align: middle;\n",
       "    }\n",
       "\n",
       "    .dataframe tbody tr th {\n",
       "        vertical-align: top;\n",
       "    }\n",
       "\n",
       "    .dataframe thead th {\n",
       "        text-align: right;\n",
       "    }\n",
       "</style>\n",
       "<table border=\"1\" class=\"dataframe\">\n",
       "  <thead>\n",
       "    <tr style=\"text-align: right;\">\n",
       "      <th></th>\n",
       "      <th>Time step</th>\n",
       "      <th>SLP</th>\n",
       "      <th>Longitude</th>\n",
       "      <th>Latitude</th>\n",
       "    </tr>\n",
       "  </thead>\n",
       "  <tbody>\n",
       "    <tr>\n",
       "      <th>0</th>\n",
       "      <td>0</td>\n",
       "      <td>NaN</td>\n",
       "      <td>NaN</td>\n",
       "      <td>NaN</td>\n",
       "    </tr>\n",
       "    <tr>\n",
       "      <th>1</th>\n",
       "      <td>1</td>\n",
       "      <td>979.7018</td>\n",
       "      <td>7.746967</td>\n",
       "      <td>68.74998</td>\n",
       "    </tr>\n",
       "    <tr>\n",
       "      <th>2</th>\n",
       "      <td>2</td>\n",
       "      <td>979.1722</td>\n",
       "      <td>9.770306</td>\n",
       "      <td>69.23523</td>\n",
       "    </tr>\n",
       "    <tr>\n",
       "      <th>3</th>\n",
       "      <td>3</td>\n",
       "      <td>978.1597</td>\n",
       "      <td>10.741020</td>\n",
       "      <td>69.44461</td>\n",
       "    </tr>\n",
       "    <tr>\n",
       "      <th>4</th>\n",
       "      <td>4</td>\n",
       "      <td>977.5530</td>\n",
       "      <td>12.115330</td>\n",
       "      <td>69.71329</td>\n",
       "    </tr>\n",
       "    <tr>\n",
       "      <th>5</th>\n",
       "      <td>5</td>\n",
       "      <td>976.9393</td>\n",
       "      <td>12.757710</td>\n",
       "      <td>69.89651</td>\n",
       "    </tr>\n",
       "    <tr>\n",
       "      <th>6</th>\n",
       "      <td>6</td>\n",
       "      <td>976.5701</td>\n",
       "      <td>13.892750</td>\n",
       "      <td>70.16076</td>\n",
       "    </tr>\n",
       "    <tr>\n",
       "      <th>7</th>\n",
       "      <td>7</td>\n",
       "      <td>975.9055</td>\n",
       "      <td>14.611490</td>\n",
       "      <td>70.25810</td>\n",
       "    </tr>\n",
       "    <tr>\n",
       "      <th>8</th>\n",
       "      <td>8</td>\n",
       "      <td>974.8201</td>\n",
       "      <td>16.252110</td>\n",
       "      <td>70.97623</td>\n",
       "    </tr>\n",
       "    <tr>\n",
       "      <th>9</th>\n",
       "      <td>9</td>\n",
       "      <td>973.6800</td>\n",
       "      <td>16.730470</td>\n",
       "      <td>71.13137</td>\n",
       "    </tr>\n",
       "    <tr>\n",
       "      <th>10</th>\n",
       "      <td>10</td>\n",
       "      <td>972.9229</td>\n",
       "      <td>17.775330</td>\n",
       "      <td>71.40806</td>\n",
       "    </tr>\n",
       "    <tr>\n",
       "      <th>11</th>\n",
       "      <td>11</td>\n",
       "      <td>971.6179</td>\n",
       "      <td>18.405070</td>\n",
       "      <td>71.62937</td>\n",
       "    </tr>\n",
       "    <tr>\n",
       "      <th>12</th>\n",
       "      <td>12</td>\n",
       "      <td>970.8812</td>\n",
       "      <td>19.433590</td>\n",
       "      <td>71.79644</td>\n",
       "    </tr>\n",
       "    <tr>\n",
       "      <th>13</th>\n",
       "      <td>13</td>\n",
       "      <td>970.7113</td>\n",
       "      <td>19.658720</td>\n",
       "      <td>72.22665</td>\n",
       "    </tr>\n",
       "    <tr>\n",
       "      <th>14</th>\n",
       "      <td>14</td>\n",
       "      <td>970.4879</td>\n",
       "      <td>20.049440</td>\n",
       "      <td>72.51493</td>\n",
       "    </tr>\n",
       "    <tr>\n",
       "      <th>15</th>\n",
       "      <td>15</td>\n",
       "      <td>970.0524</td>\n",
       "      <td>22.474290</td>\n",
       "      <td>72.56805</td>\n",
       "    </tr>\n",
       "    <tr>\n",
       "      <th>16</th>\n",
       "      <td>16</td>\n",
       "      <td>969.5963</td>\n",
       "      <td>22.538620</td>\n",
       "      <td>72.82877</td>\n",
       "    </tr>\n",
       "    <tr>\n",
       "      <th>17</th>\n",
       "      <td>17</td>\n",
       "      <td>969.0505</td>\n",
       "      <td>22.787660</td>\n",
       "      <td>72.99477</td>\n",
       "    </tr>\n",
       "    <tr>\n",
       "      <th>18</th>\n",
       "      <td>18</td>\n",
       "      <td>968.2394</td>\n",
       "      <td>23.102240</td>\n",
       "      <td>73.12872</td>\n",
       "    </tr>\n",
       "    <tr>\n",
       "      <th>19</th>\n",
       "      <td>19</td>\n",
       "      <td>968.2701</td>\n",
       "      <td>23.250730</td>\n",
       "      <td>73.27666</td>\n",
       "    </tr>\n",
       "    <tr>\n",
       "      <th>20</th>\n",
       "      <td>20</td>\n",
       "      <td>968.4371</td>\n",
       "      <td>23.513840</td>\n",
       "      <td>73.44189</td>\n",
       "    </tr>\n",
       "    <tr>\n",
       "      <th>21</th>\n",
       "      <td>21</td>\n",
       "      <td>968.6301</td>\n",
       "      <td>23.144730</td>\n",
       "      <td>73.63319</td>\n",
       "    </tr>\n",
       "    <tr>\n",
       "      <th>22</th>\n",
       "      <td>22</td>\n",
       "      <td>968.6091</td>\n",
       "      <td>20.150290</td>\n",
       "      <td>73.77312</td>\n",
       "    </tr>\n",
       "    <tr>\n",
       "      <th>23</th>\n",
       "      <td>23</td>\n",
       "      <td>967.7245</td>\n",
       "      <td>19.531570</td>\n",
       "      <td>73.70712</td>\n",
       "    </tr>\n",
       "    <tr>\n",
       "      <th>24</th>\n",
       "      <td>24</td>\n",
       "      <td>966.9012</td>\n",
       "      <td>19.659210</td>\n",
       "      <td>73.51476</td>\n",
       "    </tr>\n",
       "    <tr>\n",
       "      <th>25</th>\n",
       "      <td>25</td>\n",
       "      <td>966.0200</td>\n",
       "      <td>20.150290</td>\n",
       "      <td>73.77312</td>\n",
       "    </tr>\n",
       "    <tr>\n",
       "      <th>26</th>\n",
       "      <td>26</td>\n",
       "      <td>965.7299</td>\n",
       "      <td>19.383130</td>\n",
       "      <td>73.63741</td>\n",
       "    </tr>\n",
       "    <tr>\n",
       "      <th>27</th>\n",
       "      <td>27</td>\n",
       "      <td>966.2544</td>\n",
       "      <td>19.434320</td>\n",
       "      <td>73.34483</td>\n",
       "    </tr>\n",
       "    <tr>\n",
       "      <th>28</th>\n",
       "      <td>28</td>\n",
       "      <td>966.2478</td>\n",
       "      <td>21.916930</td>\n",
       "      <td>73.43651</td>\n",
       "    </tr>\n",
       "    <tr>\n",
       "      <th>29</th>\n",
       "      <td>29</td>\n",
       "      <td>966.9396</td>\n",
       "      <td>22.090930</td>\n",
       "      <td>73.42323</td>\n",
       "    </tr>\n",
       "    <tr>\n",
       "      <th>...</th>\n",
       "      <td>...</td>\n",
       "      <td>...</td>\n",
       "      <td>...</td>\n",
       "      <td>...</td>\n",
       "    </tr>\n",
       "    <tr>\n",
       "      <th>37</th>\n",
       "      <td>37</td>\n",
       "      <td>967.3057</td>\n",
       "      <td>24.347530</td>\n",
       "      <td>72.91225</td>\n",
       "    </tr>\n",
       "    <tr>\n",
       "      <th>38</th>\n",
       "      <td>38</td>\n",
       "      <td>967.7201</td>\n",
       "      <td>24.897070</td>\n",
       "      <td>72.99568</td>\n",
       "    </tr>\n",
       "    <tr>\n",
       "      <th>39</th>\n",
       "      <td>39</td>\n",
       "      <td>967.6743</td>\n",
       "      <td>25.286800</td>\n",
       "      <td>72.85033</td>\n",
       "    </tr>\n",
       "    <tr>\n",
       "      <th>40</th>\n",
       "      <td>40</td>\n",
       "      <td>968.0812</td>\n",
       "      <td>26.276150</td>\n",
       "      <td>72.83236</td>\n",
       "    </tr>\n",
       "    <tr>\n",
       "      <th>41</th>\n",
       "      <td>41</td>\n",
       "      <td>968.3755</td>\n",
       "      <td>25.886720</td>\n",
       "      <td>72.65526</td>\n",
       "    </tr>\n",
       "    <tr>\n",
       "      <th>42</th>\n",
       "      <td>42</td>\n",
       "      <td>968.8702</td>\n",
       "      <td>26.633170</td>\n",
       "      <td>72.44130</td>\n",
       "    </tr>\n",
       "    <tr>\n",
       "      <th>43</th>\n",
       "      <td>43</td>\n",
       "      <td>969.2115</td>\n",
       "      <td>27.320460</td>\n",
       "      <td>72.33847</td>\n",
       "    </tr>\n",
       "    <tr>\n",
       "      <th>44</th>\n",
       "      <td>44</td>\n",
       "      <td>969.7186</td>\n",
       "      <td>27.842710</td>\n",
       "      <td>72.25143</td>\n",
       "    </tr>\n",
       "    <tr>\n",
       "      <th>45</th>\n",
       "      <td>45</td>\n",
       "      <td>970.3605</td>\n",
       "      <td>28.655630</td>\n",
       "      <td>72.04466</td>\n",
       "    </tr>\n",
       "    <tr>\n",
       "      <th>46</th>\n",
       "      <td>46</td>\n",
       "      <td>971.0621</td>\n",
       "      <td>29.404990</td>\n",
       "      <td>71.86797</td>\n",
       "    </tr>\n",
       "    <tr>\n",
       "      <th>47</th>\n",
       "      <td>47</td>\n",
       "      <td>971.7178</td>\n",
       "      <td>30.332930</td>\n",
       "      <td>71.82928</td>\n",
       "    </tr>\n",
       "    <tr>\n",
       "      <th>48</th>\n",
       "      <td>48</td>\n",
       "      <td>972.0720</td>\n",
       "      <td>31.978940</td>\n",
       "      <td>71.48486</td>\n",
       "    </tr>\n",
       "    <tr>\n",
       "      <th>49</th>\n",
       "      <td>49</td>\n",
       "      <td>972.7681</td>\n",
       "      <td>32.917820</td>\n",
       "      <td>71.39928</td>\n",
       "    </tr>\n",
       "    <tr>\n",
       "      <th>50</th>\n",
       "      <td>50</td>\n",
       "      <td>973.5834</td>\n",
       "      <td>33.348440</td>\n",
       "      <td>71.33177</td>\n",
       "    </tr>\n",
       "    <tr>\n",
       "      <th>51</th>\n",
       "      <td>51</td>\n",
       "      <td>974.4467</td>\n",
       "      <td>34.621190</td>\n",
       "      <td>71.12318</td>\n",
       "    </tr>\n",
       "    <tr>\n",
       "      <th>52</th>\n",
       "      <td>52</td>\n",
       "      <td>975.4683</td>\n",
       "      <td>35.789870</td>\n",
       "      <td>70.86112</td>\n",
       "    </tr>\n",
       "    <tr>\n",
       "      <th>53</th>\n",
       "      <td>53</td>\n",
       "      <td>976.7592</td>\n",
       "      <td>37.129110</td>\n",
       "      <td>70.75893</td>\n",
       "    </tr>\n",
       "    <tr>\n",
       "      <th>54</th>\n",
       "      <td>54</td>\n",
       "      <td>977.6171</td>\n",
       "      <td>38.427730</td>\n",
       "      <td>70.68159</td>\n",
       "    </tr>\n",
       "    <tr>\n",
       "      <th>55</th>\n",
       "      <td>55</td>\n",
       "      <td>978.3489</td>\n",
       "      <td>39.111090</td>\n",
       "      <td>70.18028</td>\n",
       "    </tr>\n",
       "    <tr>\n",
       "      <th>56</th>\n",
       "      <td>56</td>\n",
       "      <td>979.1188</td>\n",
       "      <td>40.383410</td>\n",
       "      <td>70.05328</td>\n",
       "    </tr>\n",
       "    <tr>\n",
       "      <th>57</th>\n",
       "      <td>57</td>\n",
       "      <td>980.1269</td>\n",
       "      <td>41.657520</td>\n",
       "      <td>69.88142</td>\n",
       "    </tr>\n",
       "    <tr>\n",
       "      <th>58</th>\n",
       "      <td>58</td>\n",
       "      <td>981.0950</td>\n",
       "      <td>43.043620</td>\n",
       "      <td>69.63473</td>\n",
       "    </tr>\n",
       "    <tr>\n",
       "      <th>59</th>\n",
       "      <td>59</td>\n",
       "      <td>982.0600</td>\n",
       "      <td>44.633000</td>\n",
       "      <td>69.56897</td>\n",
       "    </tr>\n",
       "    <tr>\n",
       "      <th>60</th>\n",
       "      <td>60</td>\n",
       "      <td>982.4443</td>\n",
       "      <td>46.150580</td>\n",
       "      <td>69.34138</td>\n",
       "    </tr>\n",
       "    <tr>\n",
       "      <th>61</th>\n",
       "      <td>61</td>\n",
       "      <td>983.4230</td>\n",
       "      <td>47.517430</td>\n",
       "      <td>69.16888</td>\n",
       "    </tr>\n",
       "    <tr>\n",
       "      <th>62</th>\n",
       "      <td>62</td>\n",
       "      <td>984.5175</td>\n",
       "      <td>49.055100</td>\n",
       "      <td>69.02473</td>\n",
       "    </tr>\n",
       "    <tr>\n",
       "      <th>63</th>\n",
       "      <td>63</td>\n",
       "      <td>985.1943</td>\n",
       "      <td>50.665140</td>\n",
       "      <td>68.93864</td>\n",
       "    </tr>\n",
       "    <tr>\n",
       "      <th>64</th>\n",
       "      <td>64</td>\n",
       "      <td>NaN</td>\n",
       "      <td>NaN</td>\n",
       "      <td>NaN</td>\n",
       "    </tr>\n",
       "    <tr>\n",
       "      <th>65</th>\n",
       "      <td>65</td>\n",
       "      <td>NaN</td>\n",
       "      <td>NaN</td>\n",
       "      <td>NaN</td>\n",
       "    </tr>\n",
       "    <tr>\n",
       "      <th>66</th>\n",
       "      <td>66</td>\n",
       "      <td>NaN</td>\n",
       "      <td>NaN</td>\n",
       "      <td>NaN</td>\n",
       "    </tr>\n",
       "  </tbody>\n",
       "</table>\n",
       "<p>67 rows × 4 columns</p>\n",
       "</div>"
      ],
      "text/plain": [
       "    Time step       SLP  Longitude  Latitude\n",
       "0           0       NaN        NaN       NaN\n",
       "1           1  979.7018   7.746967  68.74998\n",
       "2           2  979.1722   9.770306  69.23523\n",
       "3           3  978.1597  10.741020  69.44461\n",
       "4           4  977.5530  12.115330  69.71329\n",
       "5           5  976.9393  12.757710  69.89651\n",
       "6           6  976.5701  13.892750  70.16076\n",
       "7           7  975.9055  14.611490  70.25810\n",
       "8           8  974.8201  16.252110  70.97623\n",
       "9           9  973.6800  16.730470  71.13137\n",
       "10         10  972.9229  17.775330  71.40806\n",
       "11         11  971.6179  18.405070  71.62937\n",
       "12         12  970.8812  19.433590  71.79644\n",
       "13         13  970.7113  19.658720  72.22665\n",
       "14         14  970.4879  20.049440  72.51493\n",
       "15         15  970.0524  22.474290  72.56805\n",
       "16         16  969.5963  22.538620  72.82877\n",
       "17         17  969.0505  22.787660  72.99477\n",
       "18         18  968.2394  23.102240  73.12872\n",
       "19         19  968.2701  23.250730  73.27666\n",
       "20         20  968.4371  23.513840  73.44189\n",
       "21         21  968.6301  23.144730  73.63319\n",
       "22         22  968.6091  20.150290  73.77312\n",
       "23         23  967.7245  19.531570  73.70712\n",
       "24         24  966.9012  19.659210  73.51476\n",
       "25         25  966.0200  20.150290  73.77312\n",
       "26         26  965.7299  19.383130  73.63741\n",
       "27         27  966.2544  19.434320  73.34483\n",
       "28         28  966.2478  21.916930  73.43651\n",
       "29         29  966.9396  22.090930  73.42323\n",
       "..        ...       ...        ...       ...\n",
       "37         37  967.3057  24.347530  72.91225\n",
       "38         38  967.7201  24.897070  72.99568\n",
       "39         39  967.6743  25.286800  72.85033\n",
       "40         40  968.0812  26.276150  72.83236\n",
       "41         41  968.3755  25.886720  72.65526\n",
       "42         42  968.8702  26.633170  72.44130\n",
       "43         43  969.2115  27.320460  72.33847\n",
       "44         44  969.7186  27.842710  72.25143\n",
       "45         45  970.3605  28.655630  72.04466\n",
       "46         46  971.0621  29.404990  71.86797\n",
       "47         47  971.7178  30.332930  71.82928\n",
       "48         48  972.0720  31.978940  71.48486\n",
       "49         49  972.7681  32.917820  71.39928\n",
       "50         50  973.5834  33.348440  71.33177\n",
       "51         51  974.4467  34.621190  71.12318\n",
       "52         52  975.4683  35.789870  70.86112\n",
       "53         53  976.7592  37.129110  70.75893\n",
       "54         54  977.6171  38.427730  70.68159\n",
       "55         55  978.3489  39.111090  70.18028\n",
       "56         56  979.1188  40.383410  70.05328\n",
       "57         57  980.1269  41.657520  69.88142\n",
       "58         58  981.0950  43.043620  69.63473\n",
       "59         59  982.0600  44.633000  69.56897\n",
       "60         60  982.4443  46.150580  69.34138\n",
       "61         61  983.4230  47.517430  69.16888\n",
       "62         62  984.5175  49.055100  69.02473\n",
       "63         63  985.1943  50.665140  68.93864\n",
       "64         64       NaN        NaN       NaN\n",
       "65         65       NaN        NaN       NaN\n",
       "66         66       NaN        NaN       NaN\n",
       "\n",
       "[67 rows x 4 columns]"
      ]
     },
     "execution_count": 8,
     "metadata": {},
     "output_type": "execute_result"
    }
   ],
   "source": [
    "low_file"
   ]
  },
  {
   "cell_type": "code",
   "execution_count": 19,
   "metadata": {},
   "outputs": [
    {
     "name": "stdout",
     "output_type": "stream",
     "text": [
      "Time,Sensible Heat Flux,Latent Heat Flux\n",
      "2013-11-18T07:00:00.000000000 27.984997 32.843002\n",
      "2013-11-18T08:00:00.000000000 30.280626 39.370197\n",
      "2013-11-18T09:00:00.000000000 32.330585 49.88444\n",
      "2013-11-18T10:00:00.000000000 36.865036 67.12399\n",
      "2013-11-18T11:00:00.000000000 27.828548 30.219843\n",
      "2013-11-18T12:00:00.000000000 45.83648 90.602745\n",
      "2013-11-18T13:00:00.000000000 57.739704 67.898094\n",
      "2013-11-18T14:00:00.000000000 39.101864 38.43275\n",
      "2013-11-18T15:00:00.000000000 50.95084 67.445816\n",
      "2013-11-18T16:00:00.000000000 69.85007 90.400734\n",
      "2013-11-18T17:00:00.000000000 59.481853 65.818375\n",
      "2013-11-18T18:00:00.000000000 29.399532 50.39252\n",
      "2013-11-18T19:00:00.000000000 14.041142 21.888586\n",
      "2013-11-18T20:00:00.000000000 16.882145 27.588352\n",
      "2013-11-18T21:00:00.000000000 27.615658 32.281773\n",
      "2013-11-18T22:00:00.000000000 26.514097 25.69847\n",
      "2013-11-18T23:00:00.000000000 26.914015 26.821278\n",
      "2013-11-19T00:00:00.000000000 23.967522 26.519651\n",
      "2013-11-19T01:00:00.000000000 20.498793 22.946043\n",
      "2013-11-19T02:00:00.000000000 25.723217 28.114643\n",
      "2013-11-19T03:00:00.000000000 19.592607 21.2182\n",
      "2013-11-19T04:00:00.000000000 17.870634 15.618106\n",
      "2013-11-19T05:00:00.000000000 20.87271 17.538326\n",
      "2013-11-19T06:00:00.000000000 28.92148 31.564701\n",
      "2013-11-19T07:00:00.000000000 23.571753 22.05155\n",
      "2013-11-19T08:00:00.000000000 20.520147 21.66851\n",
      "2013-11-19T09:00:00.000000000 35.779522 38.150055\n",
      "2013-11-19T10:00:00.000000000 19.916412 28.93994\n",
      "2013-11-19T11:00:00.000000000 18.953667 23.29095\n",
      "2013-11-19T12:00:00.000000000 20.095337 25.451435\n",
      "2013-11-19T13:00:00.000000000 23.728022 24.144304\n",
      "2013-11-19T14:00:00.000000000 36.45519 32.39667\n",
      "2013-11-19T15:00:00.000000000 25.859095 27.546217\n",
      "2013-11-19T16:00:00.000000000 25.90776 31.171934\n",
      "2013-11-19T17:00:00.000000000 13.829845 16.434668\n",
      "2013-11-19T18:00:00.000000000 23.517168 32.20394\n",
      "2013-11-19T19:00:00.000000000 56.02897 62.65224\n",
      "2013-11-19T20:00:00.000000000 20.100433 19.968088\n",
      "2013-11-19T21:00:00.000000000 38.53225 41.67237\n",
      "2013-11-19T22:00:00.000000000 22.875698 28.976946\n",
      "2013-11-19T23:00:00.000000000 32.443707 43.011143\n",
      "2013-11-20T00:00:00.000000000 35.677475 37.79053\n",
      "2013-11-20T01:00:00.000000000 26.081621 23.189789\n",
      "2013-11-20T02:00:00.000000000 28.30772 28.114828\n",
      "2013-11-20T03:00:00.000000000 27.601818 41.470276\n",
      "2013-11-20T04:00:00.000000000 52.009583 73.049065\n",
      "2013-11-20T05:00:00.000000000 31.311293 53.520294\n",
      "2013-11-20T06:00:00.000000000 50.707664 53.307926\n",
      "2013-11-20T07:00:00.000000000 50.37222 61.106842\n",
      "2013-11-20T08:00:00.000000000 38.762955 46.47671\n",
      "2013-11-20T09:00:00.000000000 27.292974 46.102962\n",
      "2013-11-20T10:00:00.000000000 37.79819 46.759636\n",
      "2013-11-20T11:00:00.000000000 32.616814 50.485783\n",
      "2013-11-20T12:00:00.000000000 28.688692 40.37233\n",
      "2013-11-20T13:00:00.000000000 43.287895 50.238644\n",
      "2013-11-20T14:00:00.000000000 35.427193 43.02617\n",
      "2013-11-20T15:00:00.000000000 32.237206 48.782257\n",
      "2013-11-20T16:00:00.000000000 40.159576 52.69296\n",
      "2013-11-20T17:00:00.000000000 33.0143 45.2497\n",
      "2013-11-20T18:00:00.000000000 50.26327 43.992393\n",
      "2013-11-20T19:00:00.000000000 35.018154 41.678204\n",
      "2013-11-20T20:00:00.000000000 -12.230376 8.854279\n",
      "2013-11-20T21:00:00.000000000 29.652985 24.994818\n"
     ]
    }
   ],
   "source": [
    "low_data = {\n",
    "    \"lat\": low_file[\"Latitude\"].values,\n",
    "    \"lon\": low_file[\"Longitude\"].values,\n",
    "    \"slp\": low_file[\"SLP\"].values,\n",
    "}\n",
    "\n",
    "print(\"Time,Sensible Heat Flux,Latent Heat Flux\")\n",
    "\n",
    "for time_idx in range(f.XTIME.size):\n",
    "    low_lat = low_data[\"lat\"][time_idx]\n",
    "    low_lon = low_data[\"lon\"][time_idx]\n",
    "    low_slp = low_data[\"slp\"][time_idx]\n",
    "    \n",
    "    if np.isnan(low_lat) or np.isnan(low_lon) or np.isnan(low_slp):\n",
    "        continue\n",
    "        \n",
    "    closest_lat = f.lat.sel(lat=low_lat, method=\"nearest\")\n",
    "    closest_lon = f.lon.sel(lon=low_lon, method=\"nearest\")\n",
    "\n",
    "    closest_lat_idx = np.where(f.lat==closest_lat)[0][0]\n",
    "    closest_lon_idx = np.where(f.lon==closest_lon)[0][0]\n",
    "    \n",
    "    calc_slice = (\n",
    "        time_idx,\n",
    "        closest_lat_idx,\n",
    "        closest_lon_idx,\n",
    "    )\n",
    "    \n",
    "    print(str(f.XTIME[time_idx].values), f.HFX[calc_slice].values, f.LH[calc_slice].values)"
   ]
  },
  {
   "cell_type": "code",
   "execution_count": 5,
   "metadata": {},
   "outputs": [
    {
     "data": {
      "text/plain": [
       "<xarray.Dataset>\n",
       "Dimensions:  (XTIME: 67, lat: 270, lev: 10, lon: 370)\n",
       "Coordinates:\n",
       "  * lon      (lon) float64 3.0 3.15 3.3 3.45 3.6 ... 57.75 57.9 58.05 58.2 58.35\n",
       "  * lat      (lat) float64 66.0 66.05 66.1 66.15 66.2 ... 79.3 79.35 79.4 79.45\n",
       "  * XTIME    (XTIME) datetime64[ns] 2013-11-18T06:00:00 ... 2013-11-21\n",
       "  * lev      (lev) float64 880.0 865.0 850.0 835.0 ... 525.0 500.0 475.0 450.0\n",
       "Data variables:\n",
       "    HFX      (XTIME, lat, lon) float32 ...\n",
       "    LH       (XTIME, lat, lon) float32 ...\n",
       "    Q        (XTIME, lev, lat, lon) float32 ...\n",
       "    Q2       (XTIME, lat, lon) float32 ...\n",
       "    T2       (XTIME, lat, lon) float32 ...\n",
       "    TK       (XTIME, lev, lat, lon) float32 ...\n",
       "    U        (XTIME, lev, lat, lon) float32 ...\n",
       "    U10      (XTIME, lat, lon) float32 ...\n",
       "    V        (XTIME, lev, lat, lon) float32 ...\n",
       "    V10      (XTIME, lat, lon) float32 ...\n",
       "    W        (XTIME, lev, lat, lon) float32 ...\n",
       "    Z        (XTIME, lev, lat, lon) float32 ...\n",
       "Attributes:\n",
       "    CDI:          Climate Data Interface version 1.7.2 (http://mpimet.mpg.de/...\n",
       "    Conventions:  CF-1.4\n",
       "    history:      Mon Apr 15 12:29:35 2019: cdo remapdis,latlongrid.txt surfa...\n",
       "    CDO:          Climate Data Operators version 1.7.2 (http://mpimet.mpg.de/..."
      ]
     },
     "execution_count": 5,
     "metadata": {},
     "output_type": "execute_result"
    }
   ],
   "source": [
    "f"
   ]
  },
  {
   "cell_type": "code",
   "execution_count": 7,
   "metadata": {},
   "outputs": [],
   "source": [
    "f['lev'] = np.array([880.0, 865.0, 850., 835., 820., 550., 525., 500., 475., 450.])"
   ]
  },
  {
   "cell_type": "code",
   "execution_count": 11,
   "metadata": {},
   "outputs": [
    {
     "data": {
      "text/plain": [
       "<xarray.Dataset>\n",
       "Dimensions:  (XTIME: 67, lat: 270, lev: 10, lon: 370)\n",
       "Coordinates:\n",
       "  * lon      (lon) float64 3.0 3.15 3.3 3.45 3.6 ... 57.75 57.9 58.05 58.2 58.35\n",
       "  * lat      (lat) float64 66.0 66.05 66.1 66.15 66.2 ... 79.3 79.35 79.4 79.45\n",
       "  * XTIME    (XTIME) datetime64[ns] 2013-11-18T06:00:00 ... 2013-11-21\n",
       "  * lev      (lev) float64 880.0 865.0 850.0 835.0 ... 525.0 500.0 475.0 450.0\n",
       "Data variables:\n",
       "    HFX      (XTIME, lat, lon) float32 ...\n",
       "    LH       (XTIME, lat, lon) float32 ...\n",
       "    PSFC     (XTIME, lat, lon) float32 ...\n",
       "    Q        (XTIME, lev, lat, lon) float32 ...\n",
       "    Q2       (XTIME, lat, lon) float32 ...\n",
       "    T2       (XTIME, lat, lon) float32 ...\n",
       "    Qcl      (XTIME, lev, lat, lon) float32 ...\n",
       "    TK       (XTIME, lev, lat, lon) float32 ...\n",
       "    U        (XTIME, lev, lat, lon) float32 ...\n",
       "    U10      (XTIME, lat, lon) float32 ...\n",
       "    UST      (XTIME, lat, lon) float32 ...\n",
       "    V        (XTIME, lev, lat, lon) float32 ...\n",
       "    V10      (XTIME, lat, lon) float32 ...\n",
       "    W        (XTIME, lev, lat, lon) float32 ...\n",
       "    Z        (XTIME, lev, lat, lon) float32 ...\n",
       "Attributes:\n",
       "    CDI:                             Climate Data Interface version 1.7.2 (ht...\n",
       "    Conventions:                     CF-1.4\n",
       "    history:                         Wed Jun 05 13:31:51 2019: cdo remapdis,l...\n",
       "    TITLE:                            OUTPUT FROM WRF V3.9.1 MODEL\n",
       "    START_DATE:                      2013-11-18_06:00:00\n",
       "    SIMULATION_START_DATE:           2013-11-18_06:00:00\n",
       "    WEST-EAST_GRID_DIMENSION:        551\n",
       "    SOUTH-NORTH_GRID_DIMENSION:      546\n",
       "    BOTTOM-TOP_GRID_DIMENSION:       51\n",
       "    DX:                              4000.0\n",
       "    DY:                              4000.0\n",
       "    SKEBS_ON:                        0\n",
       "    SPEC_BDY_FINAL_MU:               1\n",
       "    USE_Q_DIABATIC:                  0\n",
       "    GRIDTYPE:                        C\n",
       "    DIFF_OPT:                        1\n",
       "    KM_OPT:                          4\n",
       "    DAMP_OPT:                        0\n",
       "    DAMPCOEF:                        0.2\n",
       "    KHDIF:                           0.0\n",
       "    KVDIF:                           0.0\n",
       "    MP_PHYSICS:                      4\n",
       "    RA_LW_PHYSICS:                   4\n",
       "    RA_SW_PHYSICS:                   4\n",
       "    SF_SFCLAY_PHYSICS:               2\n",
       "    SF_SURFACE_PHYSICS:              2\n",
       "    BL_PBL_PHYSICS:                  2\n",
       "    CU_PHYSICS:                      0\n",
       "    SF_LAKE_PHYSICS:                 0\n",
       "    SURFACE_INPUT_SOURCE:            1\n",
       "    SST_UPDATE:                      1\n",
       "    GRID_FDDA:                       0\n",
       "    GFDDA_INTERVAL_M:                0\n",
       "    GFDDA_END_H:                     0\n",
       "    GRID_SFDDA:                      0\n",
       "    SGFDDA_INTERVAL_M:               0\n",
       "    SGFDDA_END_H:                    0\n",
       "    HYPSOMETRIC_OPT:                 2\n",
       "    USE_THETA_M:                     0\n",
       "    GWD_OPT:                         0\n",
       "    SF_URBAN_PHYSICS:                0\n",
       "    SF_OCEAN_PHYSICS:                0\n",
       "    SHCU_PHYSICS:                    0\n",
       "    MFSHCONV:                        0\n",
       "    FEEDBACK:                        0\n",
       "    SMOOTH_OPTION:                   0\n",
       "    SWRAD_SCAT:                      1.0\n",
       "    W_DAMPING:                       1\n",
       "    DT:                              24.0\n",
       "    ADAPT_DT_START:                  24.0\n",
       "    ADAPT_DT_MAX:                    32.0\n",
       "    ADAPT_DT_MIN:                    12.0\n",
       "    RADT:                            10.0\n",
       "    BLDT:                            0.0\n",
       "    CUDT:                            0.0\n",
       "    AER_OPT:                         0\n",
       "    SWINT_OPT:                       0\n",
       "    AER_TYPE:                        1\n",
       "    AER_AOD550_OPT:                  1\n",
       "    AER_ANGEXP_OPT:                  1\n",
       "    AER_SSA_OPT:                     1\n",
       "    AER_ASY_OPT:                     1\n",
       "    AER_AOD550_VAL:                  0.12\n",
       "    AER_ANGEXP_VAL:                  1.3\n",
       "    AER_SSA_VAL:                     0.85\n",
       "    AER_ASY_VAL:                     0.9\n",
       "    MOIST_ADV_OPT:                   1\n",
       "    SCALAR_ADV_OPT:                  1\n",
       "    TKE_ADV_OPT:                     1\n",
       "    DIFF_6TH_OPT:                    0\n",
       "    DIFF_6TH_FACTOR:                 0.12\n",
       "    OBS_NUDGE_OPT:                   0\n",
       "    BUCKET_MM:                       -1.0\n",
       "    BUCKET_J:                        -1.0\n",
       "    PREC_ACC_DT:                     0.0\n",
       "    ISFTCFLX:                        0\n",
       "    ISHALLOW:                        0\n",
       "    ISFFLX:                          1\n",
       "    ICLOUD:                          1\n",
       "    ICLOUD_CU:                       0\n",
       "    TRACER_PBLMIX:                   1\n",
       "    SCALAR_PBLMIX:                   0\n",
       "    YSU_TOPDOWN_PBLMIX:              0\n",
       "    GRAV_SETTLING:                   0\n",
       "    DFI_OPT:                         0\n",
       "    SIMULATION_INITIALIZATION_TYPE:  REAL-DATA CASE\n",
       "    WEST-EAST_PATCH_START_UNSTAG:    1\n",
       "    WEST-EAST_PATCH_END_UNSTAG:      550\n",
       "    WEST-EAST_PATCH_START_STAG:      1\n",
       "    WEST-EAST_PATCH_END_STAG:        551\n",
       "    SOUTH-NORTH_PATCH_START_UNSTAG:  1\n",
       "    SOUTH-NORTH_PATCH_END_UNSTAG:    545\n",
       "    SOUTH-NORTH_PATCH_START_STAG:    1\n",
       "    SOUTH-NORTH_PATCH_END_STAG:      546\n",
       "    BOTTOM-TOP_PATCH_START_UNSTAG:   1\n",
       "    BOTTOM-TOP_PATCH_END_UNSTAG:     50\n",
       "    BOTTOM-TOP_PATCH_START_STAG:     1\n",
       "    BOTTOM-TOP_PATCH_END_STAG:       51\n",
       "    GRID_ID:                         2\n",
       "    PARENT_ID:                       1\n",
       "    I_PARENT_START:                  143\n",
       "    J_PARENT_START:                  187\n",
       "    PARENT_GRID_RATIO:               5\n",
       "    CEN_LAT:                         73.202614\n",
       "    CEN_LON:                         31.277313\n",
       "    TRUELAT1:                        70.0\n",
       "    TRUELAT2:                        1e+20\n",
       "    MOAD_CEN_LAT:                    69.999985\n",
       "    STAND_LON:                       -38.0\n",
       "    POLE_LAT:                        90.0\n",
       "    POLE_LON:                        0.0\n",
       "    GMT:                             6.0\n",
       "    JULYR:                           2013\n",
       "    JULDAY:                          322\n",
       "    MAP_PROJ:                        2\n",
       "    MAP_PROJ_CHAR:                   Polar Stereographic\n",
       "    MMINLU:                          MODIFIED_IGBP_MODIS_NOAH\n",
       "    NUM_LAND_CAT:                    21\n",
       "    ISWATER:                         17\n",
       "    ISLAKE:                          21\n",
       "    ISICE:                           15\n",
       "    ISURBAN:                         13\n",
       "    ISOILWATER:                      14\n",
       "    HYBRID_OPT:                      -1\n",
       "    ETAC:                            0.0\n",
       "    CDO:                             Climate Data Operators version 1.7.2 (ht..."
      ]
     },
     "execution_count": 11,
     "metadata": {},
     "output_type": "execute_result"
    }
   ],
   "source": [
    "f"
   ]
  },
  {
   "cell_type": "code",
   "execution_count": 55,
   "metadata": {},
   "outputs": [],
   "source": [
    "outfile = xr.Dataset()"
   ]
  },
  {
   "cell_type": "code",
   "execution_count": 31,
   "metadata": {},
   "outputs": [],
   "source": [
    "np.shape(f.U)\n",
    "\n",
    "z = np.zeros(np.shape(f.U))"
   ]
  },
  {
   "cell_type": "code",
   "execution_count": 52,
   "metadata": {},
   "outputs": [],
   "source": [
    "arr = xr.DataArray(z, dims=[\"XTIME\", \"lev\", \"lat\", \"lon\"])"
   ]
  },
  {
   "cell_type": "code",
   "execution_count": 60,
   "metadata": {},
   "outputs": [],
   "source": [
    "outfile['AHHH'] = arr\n",
    "outfile['XTIME'] = f.XTIME\n",
    "outfile['lev'] = f.lev\n",
    "outfile['lat'] = f.lat\n",
    "outfile['lon'] = f.lon"
   ]
  },
  {
   "cell_type": "code",
   "execution_count": 61,
   "metadata": {},
   "outputs": [
    {
     "data": {
      "text/plain": [
       "<xarray.Dataset>\n",
       "Dimensions:  (XTIME: 67, lat: 270, lev: 10, lon: 370)\n",
       "Coordinates:\n",
       "  * lon      (lon) float64 3.0 3.15 3.3 3.45 3.6 ... 57.75 57.9 58.05 58.2 58.35\n",
       "  * lat      (lat) float64 66.0 66.05 66.1 66.15 66.2 ... 79.3 79.35 79.4 79.45\n",
       "  * lev      (lev) float64 880.0 865.0 850.0 835.0 ... 525.0 500.0 475.0 450.0\n",
       "  * XTIME    (XTIME) datetime64[ns] 2013-11-18T06:00:00 ... 2013-11-21\n",
       "Data variables:\n",
       "    AHHH     (XTIME, lev, lat, lon) float64 0.0 0.0 0.0 0.0 ... 0.0 0.0 0.0 0.0"
      ]
     },
     "execution_count": 61,
     "metadata": {},
     "output_type": "execute_result"
    }
   ],
   "source": [
    "outfile"
   ]
  },
  {
   "cell_type": "code",
   "execution_count": 70,
   "metadata": {},
   "outputs": [],
   "source": [
    "outfile.AHHH.attrs={'help': 'text'}"
   ]
  },
  {
   "cell_type": "code",
   "execution_count": 71,
   "metadata": {},
   "outputs": [
    {
     "data": {
      "text/plain": [
       "<xarray.DataArray 'AHHH' (XTIME: 67, lev: 10, lat: 270, lon: 370)>\n",
       "array([[[[0., ..., 0.],\n",
       "         ...,\n",
       "         [0., ..., 0.]],\n",
       "\n",
       "        ...,\n",
       "\n",
       "        [[0., ..., 0.],\n",
       "         ...,\n",
       "         [0., ..., 0.]]],\n",
       "\n",
       "\n",
       "       ...,\n",
       "\n",
       "\n",
       "       [[[0., ..., 0.],\n",
       "         ...,\n",
       "         [0., ..., 0.]],\n",
       "\n",
       "        ...,\n",
       "\n",
       "        [[0., ..., 0.],\n",
       "         ...,\n",
       "         [0., ..., 0.]]]])\n",
       "Coordinates:\n",
       "  * lon      (lon) float64 3.0 3.15 3.3 3.45 3.6 ... 57.75 57.9 58.05 58.2 58.35\n",
       "  * lat      (lat) float64 66.0 66.05 66.1 66.15 66.2 ... 79.3 79.35 79.4 79.45\n",
       "  * lev      (lev) float64 880.0 865.0 850.0 835.0 ... 525.0 500.0 475.0 450.0\n",
       "  * XTIME    (XTIME) datetime64[ns] 2013-11-18T06:00:00 ... 2013-11-21\n",
       "Attributes:\n",
       "    help:     text"
      ]
     },
     "execution_count": 71,
     "metadata": {},
     "output_type": "execute_result"
    }
   ],
   "source": [
    "outfile.AHHH"
   ]
  },
  {
   "cell_type": "code",
   "execution_count": 2,
   "metadata": {},
   "outputs": [
    {
     "data": {
      "text/plain": [
       "<xarray.Dataset>\n",
       "Dimensions:                      (XTIME: 67, lat: 270, lev: 3, lon: 370)\n",
       "Coordinates:\n",
       "  * XTIME                        (XTIME) datetime64[ns] 2013-11-18T06:00:00 ... 2013-11-21\n",
       "  * lat                          (lat) float64 66.0 66.05 66.1 ... 79.4 79.45\n",
       "  * lon                          (lon) float64 3.0 3.15 3.3 ... 58.05 58.2 58.35\n",
       "  * lev                          (lev) float64 880.0 850.0 820.0\n",
       "Data variables:\n",
       "    Q1                           (XTIME, lev, lat, lon) float64 ...\n",
       "    Q2                           (XTIME, lev, lat, lon) float64 ...\n",
       "    DIVQ                         (XTIME, lev, lat, lon) float64 ...\n",
       "    LATENT_PHASE_CHANGE          (XTIME, lev, lat, lon) float64 ...\n",
       "    DELSQ_LATENT_PHASE_CHANGE    (XTIME, lev, lat, lon) float64 ...\n",
       "    W_FRIC                       (XTIME, lat, lon) float32 ...\n",
       "    OMG_FRIC                     (XTIME, lat, lon) float32 ...\n",
       "    OMG_TOP                      (XTIME, lat, lon) float64 ...\n",
       "    HEAT_FROM_LATENT_FLUX        (XTIME, lat, lon) float64 ...\n",
       "    HEAT_FROM_SENS_FLUX          (XTIME, lat, lon) float64 ...\n",
       "    DELSQ_HEAT_FROM_LATENT_FLUX  (XTIME, lat, lon) float64 ...\n",
       "    DELSQ_HEAT_FROM_SENS_FLUX    (XTIME, lat, lon) float64 ..."
      ]
     },
     "execution_count": 2,
     "metadata": {},
     "output_type": "execute_result"
    }
   ],
   "source": [
    "dump"
   ]
  },
  {
   "cell_type": "code",
   "execution_count": null,
   "metadata": {},
   "outputs": [],
   "source": []
  }
 ],
 "metadata": {
  "kernelspec": {
   "display_name": "Python 3",
   "language": "python",
   "name": "python3"
  },
  "language_info": {
   "codemirror_mode": {
    "name": "ipython",
    "version": 3
   },
   "file_extension": ".py",
   "mimetype": "text/x-python",
   "name": "python",
   "nbconvert_exporter": "python",
   "pygments_lexer": "ipython3",
   "version": "3.7.1"
  }
 },
 "nbformat": 4,
 "nbformat_minor": 2
}
